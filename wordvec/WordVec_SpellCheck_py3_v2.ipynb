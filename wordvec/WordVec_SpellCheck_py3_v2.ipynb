{
 "cells": [
  {
   "cell_type": "code",
   "execution_count": 1,
   "metadata": {},
   "outputs": [],
   "source": [
    "## This is trained on other mis-spellings\n",
    "# Similar to earlier one (the normal without v1)"
   ]
  },
  {
   "cell_type": "code",
   "execution_count": 2,
   "metadata": {},
   "outputs": [],
   "source": [
    "import pandas as pd\n",
    "import numpy as np  # linear algebra\n",
    "import string\n",
    "import re\n",
    "import sys\n",
    "import os\n",
    "\n",
    "import jellyfish # library for fuzzy text comparisons\n",
    "\n",
    "from sklearn.model_selection import train_test_split\n",
    "from scipy.spatial.distance import cdist\n",
    "import matplotlib.pyplot as plt\n",
    "\n",
    "from tqdm import tqdm_pandas, tqdm_notebook as tqdm\n",
    "from tqdm import tqdm as tqorig\n",
    "tqorig.pandas(tqdm)"
   ]
  },
  {
   "cell_type": "code",
   "execution_count": 3,
   "metadata": {},
   "outputs": [
    {
     "name": "stdout",
     "output_type": "stream",
     "text": [
      "True\n"
     ]
    }
   ],
   "source": [
    "PATH_TO_GLOVE = './glove.840B.300d.txt' #840 billion word version\n",
    "\n",
    "try:\n",
    "    #sys.path.append(os.path.expanduser(PATH_TO_FAISS))\n",
    "    import faiss\n",
    "    FAISS_AVAILABLE = True\n",
    "except:\n",
    "    FAISS_AVAILABLE = False\n",
    "\n",
    "print(FAISS_AVAILABLE)"
   ]
  },
  {
   "cell_type": "code",
   "execution_count": 4,
   "metadata": {},
   "outputs": [
    {
     "data": {
      "text/html": [
       "<style>.container { width:80% !important; }</style>"
      ],
      "text/plain": [
       "<IPython.core.display.HTML object>"
      ]
     },
     "metadata": {},
     "output_type": "display_data"
    }
   ],
   "source": [
    "%matplotlib inline\n",
    "%load_ext autoreload\n",
    "%autoreload 2\n",
    "\n",
    "def get_all_glove(glove_path):\n",
    "    # create word_vec with glove vectors\n",
    "    glove_dict = {}\n",
    "    with open(glove_path) as f:\n",
    "        for line in tqdm(f):\n",
    "            word, vec = line.split(' ', 1)\n",
    "            glove_dict[word] = np.array(list(map(float, vec.split())), dtype=np.float32)\n",
    "    return glove_dict"
   ]
  },
  {
   "cell_type": "code",
   "execution_count": 5,
   "metadata": {},
   "outputs": [
    {
     "data": {
      "application/vnd.jupyter.widget-view+json": {
       "model_id": "1a5007e8823049bab5e57d993fea7abe",
       "version_major": 2,
       "version_minor": 0
      },
      "text/plain": [
       "HBox(children=(IntProgress(value=1, bar_style='info', max=1), HTML(value='')))"
      ]
     },
     "metadata": {},
     "output_type": "display_data"
    },
    {
     "name": "stdout",
     "output_type": "stream",
     "text": [
      "\n"
     ]
    }
   ],
   "source": [
    "# Load the GloVe vectors into a dictionary. Takes ~8 minutes\n",
    "glove = get_all_glove(PATH_TO_GLOVE) "
   ]
  },
  {
   "cell_type": "code",
   "execution_count": 5,
   "metadata": {},
   "outputs": [],
   "source": [
    "# Convert the dictionary to an embedding matrix, a dictionary mapping from word to id, and a list which will map from id to word\n",
    "emb = np.zeros((len(glove), 300), dtype=np.float32) #NOte that these will be sorted according to the word frequency\n",
    "w2id = {}\n",
    "id2w=[]\n",
    "for cc, word in enumerate(glove.keys()):\n",
    "    emb[cc]=glove[word]\n",
    "    w2id[word]=cc\n",
    "    id2w.append(word)\n",
    "\n",
    "#For faiss specifically\n",
    "emb = emb / np.linalg.norm(emb, axis=1, keepdims=True)"
   ]
  },
  {
   "cell_type": "code",
   "execution_count": 6,
   "metadata": {},
   "outputs": [
    {
     "name": "stdout",
     "output_type": "stream",
     "text": [
      "2196016 words now in index\n"
     ]
    }
   ],
   "source": [
    "if FAISS_AVAILABLE:\n",
    "    d = emb.shape[1]    # 300\n",
    "    # index = faiss.IndexFlatL2(d)\n",
    "    index = faiss.IndexFlatIP(d)                # This creates the index\n",
    "    index.add(emb)                              # This adds all the word vectors to the index\n",
    "    print(index.ntotal, 'words now in index')"
   ]
  },
  {
   "cell_type": "code",
   "execution_count": 7,
   "metadata": {},
   "outputs": [],
   "source": [
    "def getNeighbours(word_list, transform_vector=0, c=1.0, neighbours=10, metric='cosine', use_faiss=FAISS_AVAILABLE):\n",
    "    word_embeds = np.vstack([emb[w2id[x]] for x in word_list]) # create a numpy array of word embeddings\n",
    "    if use_faiss:\n",
    "        # Get neighbours\n",
    "        distances, indices = index.search((word_embeds - transform_vector*c).astype(np.float32), neighbours)\n",
    "    else:\n",
    "        dist_matrix = cdist((word_embeds - transform_vector*c).astype(np.float32), emb, metric=metric)\n",
    "        indices = np.argsort(dist_matrix)[:, :neighbours]\n",
    "    return indices\n",
    "\n",
    "# Converts indices to words.\n",
    "def toWords(index_list, n=10):\n",
    "    res = []\n",
    "    for ind in index_list:\n",
    "        # if n=1 convert to a simple list rather than a nested list\n",
    "        if n==1:\n",
    "            res.append(id2w[ind[0]])\n",
    "        else:\n",
    "            res.append([id2w[x] for x in ind[:n]])\n",
    "    return res"
   ]
  },
  {
   "cell_type": "code",
   "execution_count": 9,
   "metadata": {},
   "outputs": [
    {
     "name": "stdout",
     "output_type": "stream",
     "text": [
      "CPU times: user 4.86 s, sys: 2.8 ms, total: 4.87 s\n",
      "Wall time: 413 ms\n"
     ]
    },
    {
     "data": {
      "text/plain": [
       "[['reliable',\n",
       "  'dependable',\n",
       "  'trustworthy',\n",
       "  'cost-effective',\n",
       "  'efficient',\n",
       "  'economical',\n",
       "  'Reliable',\n",
       "  'accurate',\n",
       "  'reliability',\n",
       "  'trusted'],\n",
       " ['relieable',\n",
       "  'relyable',\n",
       "  'realible',\n",
       "  'relable',\n",
       "  'reliabe',\n",
       "  'realiable',\n",
       "  'relaiable',\n",
       "  'relaible',\n",
       "  'trustworth',\n",
       "  'trustfull']]"
      ]
     },
     "execution_count": 9,
     "metadata": {},
     "output_type": "execute_result"
    }
   ],
   "source": [
    "%time toWords(getNeighbours(['reliable', 'relieable']), n=10)"
   ]
  },
  {
   "cell_type": "code",
   "execution_count": 11,
   "metadata": {},
   "outputs": [
    {
     "name": "stdout",
     "output_type": "stream",
     "text": [
      "[['queen', 'king', 'prince', 'princess', 'kings'], ['queen', 'king', 'princess', 'prince', 'kings'], ['king', 'prince', 'queen', 'kings', 'princess']]\n",
      "[['queen', 'king', 'princess', 'queens', 'Queen'], ['princess', 'queen', 'girl', 'king', 'princesses'], ['king', 'prince', 'queen', 'princess', 'boy']]\n",
      "[['foreign', 'foriegn', 'reliable', 'overseas', 'need']]\n",
      "[['make', 'can', 'you', 'take', 'give']]\n",
      "[['puppy', 'dog', 'puppies', 'kitten', 'pup']]\n",
      "[['amd', 'athlon', 'pentium', 'intel', 'cpu', 'ati', 'asus', 'nvidia', 'geforce', 'celeron']]\n"
     ]
    }
   ],
   "source": [
    "#To whether functions are working.\n",
    "print(toWords(getNeighbours(['woman', 'girl', 'boy'], emb[w2id['man']] - emb[w2id['king']], c=1), n=5))\n",
    "print(toWords(getNeighbours(['woman', 'girl', 'boy'], emb[w2id['man']] - .7*emb[w2id['king']], c=1), n=5))\n",
    "print(toWords(getNeighbours(['foriegn'], emb[w2id['relieable']] - emb[w2id['reliable']], c=1), n=5))\n",
    "print(toWords(getNeighbours(['made'], emb[w2id['took']] - emb[w2id['take']], c=1.5), n=5))\n",
    "print(toWords(getNeighbours(['dog'], emb[w2id['man']] - emb[w2id['boy']], c=1.5), n=5))\n",
    "print(toWords(getNeighbours(['amd'], 0, c=-1.5), n=10))"
   ]
  },
  {
   "cell_type": "code",
   "execution_count": 14,
   "metadata": {},
   "outputs": [
    {
     "name": "stdout",
     "output_type": "stream",
     "text": [
      "['u', 'r']\n"
     ]
    }
   ],
   "source": [
    "letters = ['a','b','c','d','e','f','g','h','i','j','k','l','m',\n",
    "           'n','o','p','q','r','s','t','u','v','w','x','y','z',]\n",
    "\n",
    "def noise_maker(sentence, threshold=0):\n",
    "    '''Relocate, remove, or add characters to create spelling mistakes. Here word is input.'''\n",
    "    # SInce we want mistakes, we set threshold to 0.\n",
    "    noisy_sentence = []\n",
    "    i = 0\n",
    "    while i < len(sentence):\n",
    "        random = np.random.uniform(0,1,1)\n",
    "        # Most characters will be correct since the threshold value is high\n",
    "        if random < threshold:\n",
    "            noisy_sentence.append(sentence[i])\n",
    "        else:\n",
    "            new_random = np.random.uniform(0,1,1)\n",
    "            # ~33% chance characters will swap locations\n",
    "            if new_random > 0.67:\n",
    "                if i == (len(sentence) - 1):\n",
    "                    # If last character in sentence, it will not be typed\n",
    "                    continue\n",
    "                else:\n",
    "                    # if any other character, swap order with following character\n",
    "                    noisy_sentence.append(sentence[i+1])\n",
    "                    noisy_sentence.append(sentence[i])\n",
    "                    i += 1\n",
    "            # ~33% chance an extra lower case letter will be added to the sentence\n",
    "            elif new_random < 0.33:\n",
    "                random_letter = np.random.choice(letters, 1)[0]\n",
    "                noisy_sentence.append(random_letter)\n",
    "                noisy_sentence.append(sentence[i])\n",
    "            # ~33% chance a character will not be typed\n",
    "            else:\n",
    "                pass\n",
    "        i += 1\n",
    "    return noisy_sentence\n",
    "print(noise_maker(sentence=\"try\"))\n",
    "#print(noise_maker(sentence=\"Try this for size.\", threshold=0.9))"
   ]
  },
  {
   "cell_type": "code",
   "execution_count": 12,
   "metadata": {},
   "outputs": [
    {
     "name": "stdout",
     "output_type": "stream",
     "text": [
      "         correct     incorrect\n",
      "0  accommodate    accomodate  \n",
      "1  accommodation  accomodation\n",
      "2  achieve        acheive     \n",
      "3  across         accross     \n",
      "4  aggressive     agressive   \n"
     ]
    },
    {
     "ename": "NameError",
     "evalue": "name 'emb' is not defined",
     "output_type": "error",
     "traceback": [
      "\u001b[0;31m---------------------------------------------------------------------------\u001b[0m",
      "\u001b[0;31mNameError\u001b[0m                                 Traceback (most recent call last)",
      "\u001b[0;32m<ipython-input-12-5cb94846172c>\u001b[0m in \u001b[0;36m<module>\u001b[0;34m\u001b[0m\n\u001b[1;32m     17\u001b[0m \u001b[0;31m#     ax[i][j].yaxis.set_visible(False)\u001b[0m\u001b[0;34m\u001b[0m\u001b[0;34m\u001b[0m\u001b[0;34m\u001b[0m\u001b[0m\n\u001b[1;32m     18\u001b[0m \u001b[0;34m\u001b[0m\u001b[0m\n\u001b[0;32m---> 19\u001b[0;31m     \u001b[0mvec\u001b[0m \u001b[0;34m=\u001b[0m \u001b[0memb\u001b[0m\u001b[0;34m[\u001b[0m\u001b[0mw2id\u001b[0m\u001b[0;34m[\u001b[0m\u001b[0mrow\u001b[0m\u001b[0;34m.\u001b[0m\u001b[0mincorrect\u001b[0m\u001b[0;34m]\u001b[0m\u001b[0;34m]\u001b[0m\u001b[0;34m-\u001b[0m\u001b[0memb\u001b[0m\u001b[0;34m[\u001b[0m\u001b[0mw2id\u001b[0m\u001b[0;34m[\u001b[0m\u001b[0mrow\u001b[0m\u001b[0;34m.\u001b[0m\u001b[0mcorrect\u001b[0m\u001b[0;34m]\u001b[0m\u001b[0;34m]\u001b[0m\u001b[0;34m\u001b[0m\u001b[0;34m\u001b[0m\u001b[0m\n\u001b[0m\u001b[1;32m     20\u001b[0m     \u001b[0max\u001b[0m\u001b[0;34m[\u001b[0m\u001b[0mi\u001b[0m\u001b[0;34m]\u001b[0m\u001b[0;34m[\u001b[0m\u001b[0mj\u001b[0m\u001b[0;34m]\u001b[0m\u001b[0;34m.\u001b[0m\u001b[0mplot\u001b[0m\u001b[0;34m(\u001b[0m\u001b[0mvec\u001b[0m\u001b[0;34m)\u001b[0m\u001b[0;34m\u001b[0m\u001b[0;34m\u001b[0m\u001b[0m\n\u001b[1;32m     21\u001b[0m \u001b[0;31m#     ax[i][j].bar(x=list(range(300)), height=vec, color=cmap(np.abs(vec)), width=1)\u001b[0m\u001b[0;34m\u001b[0m\u001b[0;34m\u001b[0m\u001b[0;34m\u001b[0m\u001b[0m\n",
      "\u001b[0;31mNameError\u001b[0m: name 'emb' is not defined"
     ]
    },
    {
     "data": {
      "image/png": "[encoded data removed]",
      "text/plain": [
       "<Figure size 2016x720 with 9 Axes>"
      ]
     },
     "metadata": {
      "needs_background": "light"
     },
     "output_type": "display_data"
    }
   ],
   "source": [
    "# Oxford spelling errors. Just a small database.\n",
    "mistakes = pd.read_csv('Oxford_common_spellings.csv')\n",
    "print(mistakes.head())\n",
    "\n",
    "\n",
    "samp = mistakes.loc[[76, 31, 90, 14, 9, 6, 36, 91, 84]]\n",
    "\n",
    "fig, ax = plt.subplots(3, 3, sharey=True)\n",
    "fig.set_size_inches(28, 10, forward=True)\n",
    "i = 0\n",
    "j = 0\n",
    "for row in samp.itertuples():\n",
    "    ax[i][j].set_title(row.incorrect + '-' + row.correct)\n",
    "    ax[i][j].xaxis.set_visible(False)\n",
    "\n",
    "\n",
    "    vec = emb[w2id[row.incorrect]]-emb[w2id[row.correct]]\n",
    "    ax[i][j].plot(vec)\n",
    "\n",
    "    i += 1\n",
    "    if i == 3:\n",
    "        i = 0\n",
    "        j += 1"
   ]
  },
  {
   "cell_type": "code",
   "execution_count": 14,
   "metadata": {},
   "outputs": [
    {
     "name": "stderr",
     "output_type": "stream",
     "text": [
      "/home/ssatti/miniconda2/envs/wvpy3/lib/python3.6/site-packages/sklearn/model_selection/_split.py:2179: FutureWarning: From version 0.21, test_size will always complement train_size unless both are specified.\n",
      "  FutureWarning)\n"
     ]
    },
    {
     "name": "stdout",
     "output_type": "stream",
     "text": [
      "17\n"
     ]
    },
    {
     "data": {
      "image/png": "[encoded data removed]",
      "text/plain": [
       "<Figure size 432x288 with 1 Axes>"
      ]
     },
     "metadata": {
      "needs_background": "light"
     },
     "output_type": "display_data"
    }
   ],
   "source": [
    "train, test = train_test_split(mistakes, train_size=0.85, random_state=42)\n",
    "spell_transform = np.zeros((300,))\n",
    "for row in train.itertuples():\n",
    "    spell_transform += emb[w2id[row.incorrect]] - emb[w2id[row.correct]]\n",
    "spell_transform /= len(train) #It is average of (incorrect - correct)\n",
    "\n",
    "plt.plot(spell_transform)\n",
    "print(len(test))"
   ]
  },
  {
   "cell_type": "code",
   "execution_count": 15,
   "metadata": {},
   "outputs": [
    {
     "name": "stdout",
     "output_type": "stream",
     "text": [
      "8 correct out of 17\n",
      "Accuracy on test set: 47.06%\n"
     ]
    },
    {
     "name": "stderr",
     "output_type": "stream",
     "text": [
      "/home/ssatti/miniconda2/envs/wvpy3/lib/python3.6/site-packages/pandas/core/indexing.py:362: SettingWithCopyWarning: \n",
      "A value is trying to be set on a copy of a slice from a DataFrame.\n",
      "Try using .loc[row_indexer,col_indexer] = value instead\n",
      "\n",
      "See the caveats in the documentation: http://pandas.pydata.org/pandas-docs/stable/indexing.html#indexing-view-versus-copy\n",
      "  self.obj[key] = _infer_fill_value(value)\n",
      "/home/ssatti/miniconda2/envs/wvpy3/lib/python3.6/site-packages/pandas/core/indexing.py:543: SettingWithCopyWarning: \n",
      "A value is trying to be set on a copy of a slice from a DataFrame.\n",
      "Try using .loc[row_indexer,col_indexer] = value instead\n",
      "\n",
      "See the caveats in the documentation: http://pandas.pydata.org/pandas-docs/stable/indexing.html#indexing-view-versus-copy\n",
      "  self.obj[item] = s\n"
     ]
    }
   ],
   "source": [
    "#transformation on the test set\n",
    "test.loc[:, 'fixed'] = toWords(getNeighbours(test.incorrect, transform_vector=spell_transform, c=1), n=1)\n",
    "print('{} correct out of {}'.format((test.fixed==test.correct).sum(), len(test)))\n",
    "print('Accuracy on test set: {:.2f}%'.format((test.fixed==test.correct).sum()/len(test)*100.0))"
   ]
  },
  {
   "cell_type": "code",
   "execution_count": 16,
   "metadata": {},
   "outputs": [
    {
     "name": "stdout",
     "output_type": "stream",
     "text": [
      "16 correct out of 17\n",
      "Accuracy on test set: 94.12%\n"
     ]
    },
    {
     "name": "stderr",
     "output_type": "stream",
     "text": [
      "/home/ssatti/miniconda2/envs/wvpy3/lib/python3.6/site-packages/pandas/core/indexing.py:630: SettingWithCopyWarning: \n",
      "A value is trying to be set on a copy of a slice from a DataFrame.\n",
      "Try using .loc[row_indexer,col_indexer] = value instead\n",
      "\n",
      "See the caveats in the documentation: http://pandas.pydata.org/pandas-docs/stable/indexing.html#indexing-view-versus-copy\n",
      "  self.obj[item_labels[indexer[info_axis]]] = value\n"
     ]
    }
   ],
   "source": [
    "# Push more in the direction of correct spellings using c=1.5\n",
    "test.loc[:, 'fixed'] = toWords(getNeighbours(test.incorrect, transform_vector=spell_transform, c=1.5), n=1)\n",
    "print('{} correct out of {}'.format((test.fixed==test.correct).sum(), len(test)))\n",
    "print('Accuracy on test set: {:.2f}%'.format(1.0*(test.fixed==test.correct).sum()/len(test)*100))"
   ]
  },
  {
   "cell_type": "code",
   "execution_count": 17,
   "metadata": {},
   "outputs": [
    {
     "name": "stdout",
     "output_type": "stream",
     "text": [
      "      correct incorrect     fixed\n",
      "18  chauffeur  chauffer  chauffer\n"
     ]
    },
    {
     "data": {
      "text/plain": [
       "[<matplotlib.lines.Line2D at 0x2aac523dd5f8>]"
      ]
     },
     "execution_count": 17,
     "metadata": {},
     "output_type": "execute_result"
    },
    {
     "data": {
      "image/png": "[encoded data removed]",
      "text/plain": [
       "<Figure size 432x288 with 1 Axes>"
      ]
     },
     "metadata": {
      "needs_background": "light"
     },
     "output_type": "display_data"
    }
   ],
   "source": [
    "print(test[test.fixed!=test.correct])\n",
    "# plt.plot(emb[w2id['Farenheit']]-emb[w2id['Fahrenheit']])\n",
    "plt.plot(emb[w2id['chauffer']]-emb[w2id['chauffeur']])\n",
    "plt.plot(spell_transform)"
   ]
  },
  {
   "cell_type": "code",
   "execution_count": null,
   "metadata": {},
   "outputs": [],
   "source": []
  },
  {
   "cell_type": "code",
   "execution_count": 18,
   "metadata": {},
   "outputs": [
    {
     "data": {
      "text/html": [
       "<div>\n",
       "<style scoped>\n",
       "    .dataframe tbody tr th:only-of-type {\n",
       "        vertical-align: middle;\n",
       "    }\n",
       "\n",
       "    .dataframe tbody tr th {\n",
       "        vertical-align: top;\n",
       "    }\n",
       "\n",
       "    .dataframe thead th {\n",
       "        text-align: right;\n",
       "    }\n",
       "</style>\n",
       "<table border=\"1\" class=\"dataframe\">\n",
       "  <thead>\n",
       "    <tr style=\"text-align: right;\">\n",
       "      <th></th>\n",
       "      <th>correct</th>\n",
       "      <th>incorrect</th>\n",
       "      <th>lev_score</th>\n",
       "      <th>lev_distance</th>\n",
       "    </tr>\n",
       "  </thead>\n",
       "  <tbody>\n",
       "    <tr>\n",
       "      <th>73</th>\n",
       "      <td>pharaoh</td>\n",
       "      <td>pharoah</td>\n",
       "      <td>0.285714</td>\n",
       "      <td>2</td>\n",
       "    </tr>\n",
       "    <tr>\n",
       "      <th>67</th>\n",
       "      <td>occasion</td>\n",
       "      <td>ocassion</td>\n",
       "      <td>0.250000</td>\n",
       "      <td>2</td>\n",
       "    </tr>\n",
       "    <tr>\n",
       "      <th>28</th>\n",
       "      <td>disappoint</td>\n",
       "      <td>dissapoint</td>\n",
       "      <td>0.200000</td>\n",
       "      <td>2</td>\n",
       "    </tr>\n",
       "    <tr>\n",
       "      <th>91</th>\n",
       "      <td>siege</td>\n",
       "      <td>seige</td>\n",
       "      <td>0.400000</td>\n",
       "      <td>2</td>\n",
       "    </tr>\n",
       "    <tr>\n",
       "      <th>46</th>\n",
       "      <td>guard</td>\n",
       "      <td>gaurd</td>\n",
       "      <td>0.400000</td>\n",
       "      <td>2</td>\n",
       "    </tr>\n",
       "  </tbody>\n",
       "</table>\n",
       "</div>"
      ],
      "text/plain": [
       "       correct   incorrect  lev_score  lev_distance\n",
       "73  pharaoh     pharoah     0.285714   2           \n",
       "67  occasion    ocassion    0.250000   2           \n",
       "28  disappoint  dissapoint  0.200000   2           \n",
       "91  siege       seige       0.400000   2           \n",
       "46  guard       gaurd       0.400000   2           "
      ]
     },
     "execution_count": 18,
     "metadata": {},
     "output_type": "execute_result"
    }
   ],
   "source": [
    "# Based on this block, we see that it's NOT plausible if edit distance is > 2.\n",
    "mistakes['lev_score'] = mistakes.apply(lambda x: jellyfish.levenshtein_distance(x.correct, x.incorrect) / max(len(x.correct), len(x.incorrect)), axis=1)\n",
    "mistakes['lev_distance'] = mistakes.apply(lambda x: jellyfish.levenshtein_distance(x.correct, x.incorrect), axis=1)\n",
    "mistakes.sort_values('lev_distance').tail()"
   ]
  },
  {
   "cell_type": "code",
   "execution_count": 19,
   "metadata": {},
   "outputs": [],
   "source": [
    "MAX_EDITS = 2 #We choose max edit distance as 2.\n",
    "\n",
    "# Checks if word w2 is a plausible mistake of word w1. Uses edit distance along with some heuristics\n",
    "def is_misspelling(w1, w2, max_edits=MAX_EDITS):\n",
    "    # We want to focus on the spelling, and not the case of the letters, so we will lower case both words\n",
    "    w1 = w1.lower()\n",
    "    w2 = w2.lower()\n",
    "    # First check that we don't just have a differently cased version of the same word\n",
    "    if w1 != w2:\n",
    "        # Next check that we aren't just creating a plural of of a singular word, or vica versa\n",
    "        if not ((w1[-1] == 's' and w2[-1] != 's') or (w1[-1] != 's' and w2[-1] == 's')):\n",
    "            # Next check that we haven't just stuck a 2 letter prefix or suffix on the word e.g. 'invent' ==> 'reinvent', 'invented'\n",
    "            if not (w1[:-2] == w2 or w2[:-2] == w1 or w1[2:] == w2 or w2[2:] == w1):\n",
    "                # Next, if the word ends in 'e', check we haven't just added a 'd'\n",
    "                if not ((w1[-1] == 'e' and w2[-1] == 'd') or (w1[-1] == 'd' and w2[-1] == 'e')):\n",
    "                    # Finally, if we passed all these tests, then calculate the Levenshtein distance\n",
    "                    dist = jellyfish.levenshtein_distance(w1, w2)\n",
    "                    return dist <= max_edits\n"
   ]
  },
  {
   "cell_type": "code",
   "execution_count": 20,
   "metadata": {},
   "outputs": [
    {
     "name": "stdout",
     "output_type": "stream",
     "text": [
      "The top 20 \"best spelled\" words:\n",
      " as;  which;  particularly;  whose;  that;  described;  addition;  significant;  noted;  While;  continues;  the;  suggests;  previously;  Although;  such;  present;  referred;  including;  particular;  continued;  both;  --;  often;  following;  whether;  among;  The;  remains;  followed;  their;  may;  however;  However;  latter;  considered;  known;  rather;  's;  follows;  while;  presence;  recent;  become;  As;  determined;  also;  identified;  several;  appears\n",
      "\n",
      "The top 20 \"worst spelled\" words:\n",
      " Hobbyist;  FUCK;  Whats;  Lol;  =D;  ps3;  02088670410;  Hotel_Review;  permalinksaveparent;  cuz;  Logged;  ░;  ur;  vid;  ?????;  omg;  dat;  THANKS;  coz;  points1;  wasnt;  !!!!!!;  hes;  ;D;  ▒;  fuckin;  ppl;  theres;  soo;  Fav;  shes;  havent;  wouldnt;  teh;  ║;  aint;  ive;  ▄;  commentLoad;  goin;  luv;  pls;  ▀;  !!!!!!!;  wtf;  lmao;  wat;  !!!!!!!!;  plz;  awsome\n"
     ]
    }
   ],
   "source": [
    "\n",
    "scores = np.dot(emb[:20000], spell_transform)\n",
    "sp = np.argsort(scores)\n",
    "print ('The top 20 \"best spelled\" words:\\n', ';  '.join([id2w[x] for x in sp[:50]]))\n",
    "print()\n",
    "print ('The top 20 \"worst spelled\" words:\\n', ';  '.join([id2w[x] for x in sp[-50:]]))"
   ]
  },
  {
   "cell_type": "code",
   "execution_count": 21,
   "metadata": {},
   "outputs": [
    {
     "name": "stdout",
     "output_type": "stream",
     "text": [
      "The top 20 \"best spelled\" words:\n",
      " U.S.;  officials;  political;  whose;  States;  significant;  percent;  among;  economic;  increasingly;  individuals;  often;  University;  such;  former;  efforts;  government;  York;  their;  particularly;  financial;  --;  organizations;  described;  students;  American;  institutions;  social;  Department;  began;  identified;  President;  federal;  which;  State;  presence;  may;  including;  noted;  his;  remains;  leadership;  United;  associated;  activities;  critical;  patients;  increased;  Washington;  individual\n",
      "The top 20 \"worst spelled\" words:\n",
      " nigga;  LinkBack;  ;D;  EVINRUDE;  wouldnt;  !!!!!!;  vid;  havent;  LFS;  Fav;  FUCK;  THANKS;  Mercruiser;  omg;  Airbags;  ur;  points3;  :{;  hes;  ppl;  MouseWait;  ps3;  dat;  fuckin;  ░;  aint;  goin;  soo;  ive;  shes;  points1;  teh;  !!!!!!!;  luv;  wtf;  pls;  ▒;  lmao;  ▄;  pmPosts;  !!!!!!!!;  ▀;  wat;  ║;  agosorry;  fromServlet;  plz;  awsome;  commentLoad;  Hotel_Review\n"
     ]
    }
   ],
   "source": [
    "emb_nonorm = np.zeros((50000, 300), dtype=np.float32) # # Search in un-normalized space!!\n",
    "\n",
    "for cc, word in enumerate(list(glove.keys())[:50000]):\n",
    "    emb_nonorm[cc] = glove[word]\n",
    "\n",
    "scores = np.dot(emb_nonorm[:20000], spell_transform)\n",
    "sp_nonorm = np.argsort(scores)\n",
    "print ('The top 20 \"best spelled\" words:\\n', ';  '.join([id2w[x] for x in sp_nonorm[:50]]))\n",
    "print ('The top 20 \"worst spelled\" words:\\n', ';  '.join([id2w[x] for x in sp_nonorm[-50:]]))"
   ]
  },
  {
   "cell_type": "code",
   "execution_count": 22,
   "metadata": {},
   "outputs": [
    {
     "data": {
      "text/plain": [
       "['Arabic',\n",
       " 'booth',\n",
       " 'resistant',\n",
       " 'Starbucks',\n",
       " 'Want',\n",
       " 'teens',\n",
       " 'standpoint',\n",
       " 'Golf',\n",
       " 'arrests',\n",
       " 'Document',\n",
       " '2014',\n",
       " 'Laden',\n",
       " 'Café',\n",
       " '127',\n",
       " 'Cumberland',\n",
       " 'Railway',\n",
       " 'Me',\n",
       " 'muscles',\n",
       " 'Selected',\n",
       " 'Jupiter',\n",
       " 'ordinance',\n",
       " 'Host',\n",
       " 'Shadow',\n",
       " 'noble',\n",
       " 'climbed',\n",
       " 'Physicians',\n",
       " 'Girl',\n",
       " '3-D',\n",
       " 'collector',\n",
       " 'posture',\n",
       " 'lightweight',\n",
       " 'healthier',\n",
       " 'Raleigh',\n",
       " 'benchmark',\n",
       " 'fiber',\n",
       " 'Rangers',\n",
       " 'souls',\n",
       " 'tactic',\n",
       " 'homeland',\n",
       " 'Measures',\n",
       " 'primitive',\n",
       " '1923',\n",
       " 'Dog',\n",
       " 'Alexandra',\n",
       " 'Boone',\n",
       " 'snapped',\n",
       " 'utter',\n",
       " 'Airlines',\n",
       " 'Hal',\n",
       " 'Contest']"
      ]
     },
     "execution_count": 22,
     "metadata": {},
     "output_type": "execute_result"
    }
   ],
   "source": [
    "[id2w[x] for x in sp[10000:10050]]"
   ]
  },
  {
   "cell_type": "code",
   "execution_count": 23,
   "metadata": {},
   "outputs": [
    {
     "name": "stdout",
     "output_type": "stream",
     "text": [
      "8977\n"
     ]
    }
   ],
   "source": [
    "pattern = re.compile('[\\WA-Z0-9_]')\n",
    "def checkword(wrd, minlen=3):\n",
    "    # returns True if the wrd only contains the letters a-z\n",
    "    return len(wrd) >= minlen and pattern.sub('', wrd) == wrd\n",
    "\n",
    "training_list = [id2w[x] for x in sp[:15000] if checkword(id2w[x])]\n",
    "print(len(training_list))"
   ]
  },
  {
   "cell_type": "code",
   "execution_count": 24,
   "metadata": {},
   "outputs": [
    {
     "name": "stdout",
     "output_type": "stream",
     "text": [
      "CPU times: user 13min 15s, sys: 1min 14s, total: 14min 29s\n",
      "Wall time: 36.4 s\n"
     ]
    }
   ],
   "source": [
    "%time I = getNeighbours(training_list, spell_transform, -1.5, neighbours=10)"
   ]
  },
  {
   "cell_type": "code",
   "execution_count": 26,
   "metadata": {},
   "outputs": [
    {
     "name": "stdout",
     "output_type": "stream",
     "text": [
      "Generate 14157 pairs\n",
      "[('whom', 'whome'), ('characterized', 'characterised'), ('they', 'thay'), ('social', 'socail'), ('social', 'soical'), ('social', 'socia'), ('social', 'socio'), ('traditional', 'traditonal'), ('traditional', 'tradional'), ('traditional', 'tradtional'), ('traditional', 'traditionnal'), ('traditional', 'traditiona'), ('current', 'curent'), ('current', 'currrent'), ('current', 'currect'), ('current', 'curret'), ('current', 'curretn'), ('current', 'cuurent'), ('current', 'currnt'), ('seemingly', 'seeminly'), ('common', 'commom'), ('common', 'comon'), ('common', 'comman'), ('maintain', 'mantain'), ('maintain', 'maintian')]\n"
     ]
    }
   ],
   "source": [
    "pairs = []\n",
    "for ls, wrd in zip(I, training_list):\n",
    "    if wrd in test.correct:\n",
    "        continue\n",
    "    for misspell in ls:\n",
    "        if checkword(id2w[misspell]) and id2w[misspell] not in training_list and is_misspelling(wrd, id2w[misspell]):\n",
    "            pairs.append((wrd, id2w[misspell]))\n",
    "print('Generate {} pairs'.format(len(pairs)))\n",
    "print(pairs[1000:1025])"
   ]
  },
  {
   "cell_type": "code",
   "execution_count": 27,
   "metadata": {},
   "outputs": [
    {
     "data": {
      "image/png": "[encoded data removed]",
      "text/plain": [
       "<Figure size 432x288 with 1 Axes>"
      ]
     },
     "metadata": {
      "needs_background": "light"
     },
     "output_type": "display_data"
    }
   ],
   "source": [
    "incorrects = [np.dot(emb[w2id[x[1]]], spell_transform) for x in pairs]\n",
    "_ =plt.hist(incorrects, bins=50)"
   ]
  },
  {
   "cell_type": "code",
   "execution_count": 28,
   "metadata": {},
   "outputs": [
    {
     "name": "stdout",
     "output_type": "stream",
     "text": [
      "[('their', 'thier'), ('bringing', 'brining'), ('similar', 'similiar'), ('will', 'wil'), ('indicate', 'indicative'), ('successful', 'succesful'), ('his', 'hes'), ('role', 'rôle'), ('demonstrate', 'demonstrable'), ('focuses', 'focusses'), ('resulting', 'resultant'), ('focused', 'focussed'), ('received', 'recieved'), ('emphasis', 'emphases'), ('emphasis', 'emphasizes'), ('separate', 'seperate'), ('financial', 'ﬁnancial'), ('across', 'accross'), ('commitment', 'committment'), ('characterized', 'characterised'), ('social', 'socio'), ('activities', 'activites'), ('existence', 'existance'), ('practices', 'practises'), ('reflected', 'refracted'), ('initiated', 'instigated'), ('prepared', 'prepped'), ('affected', 'effected'), ('receive', 'recieve'), ('conclusion', 'conclusive'), ('focusing', 'focussing'), ('committed', 'commited'), ('employees', 'employes'), ('independent', 'independant'), ('consumers', 'costumers'), ('carrying', 'ferrying'), ('kind', 'kinda'), ('capital', 'capitol'), ('preparing', 'prepping'), ('them', 'thier'), ('utilized', 'utilised'), ('truly', 'truely'), ('latest', 'lastest'), ('enormous', 'ginormous'), ('official', 'offical'), ('indicating', 'indicative'), ('aforementioned', 'abovementioned'), ('emphasized', 'emphasised'), ('sort', 'sorta'), ('practice', 'practise'), ('crisis', 'crises'), ('occurred', 'occured'), ('fewer', 'fewest'), ('innovative', 'innovating'), ('customers', 'costumers'), ('broader', 'broadest'), ('broader', 'broaden'), ('policies', 'polices'), ('discovery', 'discoverer'), ('ensuring', 'assuring'), ('planned', 'planed'), ('targeted', 'targetted'), ('consequence', 'consequent'), ('collaboration', 'collaborating'), ('lives', 'lifes'), ('below', 'bellow'), ('full', 'ful'), ('reflecting', 'refracting'), ('proposals', 'proposers'), ('companies', 'companys'), ('publicly', 'publically'), ('utilizing', 'utilising'), ('innovation', 'innovating'), ('preceding', 'preceeding'), ('uncertainty', 'uncertainly'), ('too', 'soo'), ('too', 'sooo'), ('comparable', 'comparably'), ('occasion', 'occassion'), ('overcome', 'overcame'), ('managers', 'mangers'), ('arguably', 'arguable'), ('utilize', 'utilise'), ('exercise', 'excercise'), ('receives', 'recieves'), ('occurring', 'occuring'), ('pursuing', 'pursing'), ('transferred', 'transfered'), ('aggressive', 'agressive'), ('occasions', 'occassions'), ('regulation', 'regulating'), ('emphasize', 'emphasise'), ('definitely', 'definately'), ('affecting', 'effecting'), ('analyzed', 'analysed'), ('appreciation', 'appreciating'), ('recognizes', 'recognises'), ('criteria', 'criterion'), ('going', 'gonna'), ('specialized', 'specialised'), ('accommodate', 'accomodate'), ('explicitly', 'implicitly'), ('favorable', 'favourable'), ('illustrate', 'illustrative'), ('infrastructure', 'infrastructural'), ('body', 'bod'), ('inquiry', 'enquiry'), ('possess', 'posses'), ('recognizing', 'recognising'), ('judicial', 'judiciary'), ('undergoing', 'undergone'), ('demonstration', 'demonstrator'), ('occasional', 'occassional'), ('hours', 'hrs'), ('targeting', 'targetting'), ('regime', 'régime'), ('climate', 'climatic'), ('longtime', 'onetime'), ('practitioners', 'practioners'), ('authorized', 'authorised'), ('organizational', 'organisational'), ('dependent', 'dependant'), ('centered', 'centred'), ('tale', 'fable'), ('occurrence', 'occurence'), ('ensures', 'insures'), ('ensures', 'assures'), ('losing', 'loosing'), ('designation', 'designator'), ('rare', 'rarer'), ('persistent', 'persisting'), ('reaction', 'reacting'), ('fulfill', 'fulfil'), ('artistic', 'artistry'), ('adaptation', 'adaption'), ('supervision', 'supervising'), ('winning', 'wining'), ('honored', 'honoured'), ('want', 'dont'), ('want', 'wanna'), ('want', 'cant'), ('initiate', 'instigate'), ('crowd', 'crowed'), ('twice', 'thrice'), ('imminent', 'imminence'), ('speculation', 'speculating'), ('sustainable', 'sustainably'), ('litigation', 'litigating'), ('reflection', 'refraction'), ('specialist', 'specialised'), ('predominantly', 'predominately'), ('organizing', 'organising'), ('prevention', 'preventive'), ('devastating', 'devastation'), ('subtle', 'subtler'), ('desirable', 'desireable'), ('labeled', 'labelled'), ('books', 'ebooks'), ('debut', 'début'), ('extensively', 'intensively'), ('analyze', 'analyse'), ('aesthetic', 'esthetic'), ('vibrant', 'vibrancy'), ('neighboring', 'neighbouring'), ('realization', 'realisation'), ('specialty', 'speciality'), ('lot', 'alot'), ('endeavor', 'endeavour'), ('aging', 'ageing'), ('curriculum', 'curricula'), ('curriculum', 'curricular'), ('depending', 'dependant'), ('incidents', 'incidences'), ('minister', 'minster'), ('fierce', 'fiercer'), ('benefited', 'benefitted'), ('finest', 'nicest'), ('abuse', 'abuser'), ('dream', 'dreamt'), ('realizing', 'realising'), ('violations', 'violators'), ('stretch', 'stretchy'), ('jury', 'juror'), ('prosecution', 'prosecuting'), ('analyzing', 'analysing'), ('explicit', 'implicit'), ('mentor', 'mentee'), ('incentive', 'incentivize'), ('incentive', 'incentivise'), ('winter', 'wintery'), ('winter', 'wintry'), ('organize', 'organise'), ('insurance', 'insurence'), ('text', 'txt'), ('chair', 'chaise'), ('removal', 'remover'), ('constraints', 'constrains'), ('conviction', 'convicting'), ('estimate', 'estimator'), ('retired', 'rehired'), ('organizers', 'organisers'), ('thereof', 'therefor'), ('thereof', 'thereon'), ('thereof', 'thereto'), ('thereof', 'hereof'), ('affordable', 'affordably'), ('fees', 'dues'), ('practiced', 'practised'), ('honors', 'honorees'), ('withdrawn', 'withdrawing'), ('quantitative', 'qualitative'), ('utilization', 'utilisation'), ('complaint', 'complainant'), ('diagnosis', 'diagnoses'), ('minimize', 'minimise'), ('accumulation', 'accumulating'), ('statutory', 'statutorily'), ('violation', 'violator'), ('protests', 'protestors'), ('cognitive', 'cognition'), ('isolation', 'isolating'), ('isolation', 'isolator'), ('maximize', 'maximise'), ('embedded', 'imbedded'), ('resume', 'resumé'), ('resume', 'résumé'), ('artificial', 'artifical'), ('households', 'householders'), ('reconstruction', 'reconstructing'), ('utilizes', 'utilises'), ('rehabilitation', 'rehabilitative'), ('behaviors', 'behaviours'), ('thesis', 'theses'), ('length', 'lenght'), ('magical', 'magickal'), ('tiny', 'teeny'), ('translation', 'translator'), ('behavioral', 'behavioural'), ('tangible', 'tangibly'), ('neighborhoods', 'neighbourhoods'), ('herein', 'hereof'), ('theories', 'theorists'), ('novels', 'novellas'), ('recurring', 'reoccurring'), ('motivation', 'motivator'), ('termination', 'terminating'), ('sympathetic', 'empathetic'), ('wall', 'sill'), ('withdrawal', 'withdrawl'), ('competence', 'competency'), ('wine', 'vino'), ('elite', 'élite'), ('relevance', 'relevancy'), ('formula', 'formulae'), ('inquiries', 'inquires'), ('inquiries', 'enquires'), ('inquiries', 'enquiries'), ('twist', 'twirl'), ('tales', 'fables'), ('calendar', 'calender'), ('licensed', 'licenced'), ('disposal', 'dispose'), ('wind', 'windy'), ('coastal', 'costal'), ('satisfactory', 'satisfactorily'), ('practicing', 'practising'), ('train', 'tram'), ('nomination', 'nominating'), ('mistaken', 'mistaking'), ('migration', 'migrating'), ('migration', 'emigration'), ('dining', 'dinning'), ('neighbors', 'neighbours'), ('inspection', 'inspecting'), ('plea', 'plead'), ('plea', 'pled'), ('suicide', 'suicidal'), ('withdraw', 'withdrawl'), ('fulfillment', 'fulfilment'), ('proliferation', 'proliferating'), ('pursuant', 'pursuance'), ('advisors', 'advisers'), ('advisors', 'advisees'), ('border', 'boarder'), ('synthesis', 'syntheses'), ('fashionable', 'fashionably'), ('allocation', 'allocating'), ('magic', 'magick'), ('unconscious', 'subconscious'), ('premiere', 'première'), ('dense', 'denser'), ('suburban', 'suburbia'), ('enrollment', 'enrolment'), ('counseling', 'counselling'), ('installment', 'instalment'), ('envelope', 'envelop'), ('glory', 'glorify'), ('strive', 'striven'), ('depression', 'depressive'), ('hypothesis', 'hypotheses'), ('specializing', 'specialising'), ('fragile', 'frail'), ('marvelous', 'marvellous'), ('skeptical', 'sceptical'), ('therein', 'thereon'), ('therein', 'thereto'), ('specializes', 'specialises'), ('trees', 'tress'), ('inflation', 'deflation'), ('license', 'licence'), ('pollution', 'polluting'), ('molecular', 'molecule'), ('insurers', 'insureds'), ('maternal', 'paternal'), ('signaling', 'signalling'), ('loses', 'looses'), ('crowded', 'crowed'), ('manipulation', 'manipulating'), ('arbitrary', 'arbitrarily'), ('wildlife', 'birdlife'), ('unpredictable', 'unpredictably'), ('marketers', 'marketeers'), ('evaluations', 'evaluators'), ('peripheral', 'periphery'), ('pages', 'pgs'), ('heroes', 'heros'), ('tourist', 'touristy'), ('prosperity', 'prospering'), ('kids', 'kiddos'), ('franchise', 'franchisee'), ('biology', 'zoology'), ('standardized', 'standardised'), ('exploitation', 'exploitative'), ('donation', 'donating'), ('accelerate', 'decelerate'), ('lunch', 'brunch'), ('objection', 'objecting'), ('electrical', 'electrician'), ('meditation', 'meditating'), ('meditation', 'meditative'), ('maturity', 'maturing'), ('personalized', 'personalised'), ('diabetes', 'diabetics'), ('immigrant', 'immigrate'), ('knowledgeable', 'knowledgable'), ('comedy', 'comedic'), ('frozen', 'froze'), ('denies', 'decries'), ('intricate', 'intricacy'), ('customized', 'customised'), ('bone', 'bony'), ('protesters', 'protestors'), ('alumni', 'alumnae'), ('royal', 'regal'), ('recycling', 'upcycling'), ('lover', 'lovin'), ('plate', 'platter'), ('supplemental', 'supplementary'), ('manufacture', 'manufactory'), ('internally', 'externally'), ('dance', 'dancer'), ('simulation', 'simulator'), ('simulation', 'simulating'), ('modeling', 'modelling'), ('accommodations', 'accomodations'), ('harassment', 'harrassment'), ('correction', 'correcting'), ('correction', 'corrector'), ('grocery', 'grocer'), ('admired', 'adored'), ('correlation', 'correlating'), ('affiliation', 'affiliating'), ('comic', 'comix'), ('grain', 'bran'), ('neighbor', 'neighbour'), ('sculpture', 'sculptural'), ('unforgettable', 'unforgettably'), ('dual', 'quad'), ('contamination', 'contaminating'), ('folk', 'folky'), ('realizes', 'realises'), ('businessman', 'businesswoman'), ('encyclopedia', 'encyclopaedia'), ('flavor', 'flavour'), ('projection', 'projecting'), ('trains', 'trams'), ('cream', 'creme'), ('favors', 'favours'), ('embarrassing', 'embarassing'), ('humorous', 'humourous'), ('artifacts', 'artefacts'), ('curb', 'kerb'), ('optimization', 'optimisation'), ('wrap', 'drape'), ('teenager', 'teenaged'), ('jewelry', 'jewelery'), ('norms', 'mores'), ('smile', 'smirk'), ('spirituality', 'spiritualism'), ('drink', 'drank'), ('oriented', 'orientated'), ('enroll', 'enrol'), ('snow', 'snowy'), ('appraisal', 'appraiser'), ('races', 'racers'), ('medieval', 'mediaeval'), ('holistic', 'wholistic'), ('clothes', 'cloths'), ('slide', 'slider'), ('freshman', 'freshmen'), ('harbor', 'harbour'), ('arbitration', 'arbitrator'), ('arbitration', 'arbitrating'), ('licenses', 'licences'), ('imported', 'exported'), ('fundraiser', 'fundraise'), ('civilization', 'civilisation'), ('poets', 'poetess'), ('prescription', 'perscription'), ('bureau', 'bureaux'), ('extraction', 'extracting'), ('extraction', 'extractor'), ('pediatric', 'paediatric'), ('catalyst', 'catalysed'), ('accidentally', 'accidently'), ('unauthorized', 'unauthorised'), ('farther', 'farthest'), ('tenant', 'tenancy'), ('update', 'updater'), ('fan', 'fav'), ('soldier', 'solider'), ('organizer', 'organiser'), ('offshore', 'onshore'), ('iii', 'vii'), ('iii', 'viii'), ('iii', 'xiii'), ('iii', 'xii'), ('iii', 'xvii'), ('terribly', 'horribly'), ('plates', 'platters'), ('hygiene', 'hygienic'), ('withstand', 'withstood'), ('torn', 'tore'), ('tougher', 'toughen'), ('tougher', 'rougher'), ('remodeling', 'remodelling'), ('posture', 'postural'), ('fiber', 'fibre'), ('feminist', 'feminism'), ('estimation', 'estimator'), ('estimation', 'estimating'), ('timber', 'lumber'), ('exemption', 'exempting'), ('billions', 'trillions'), ('authorization', 'authorisation'), ('posing', 'toying'), ('marijuana', 'marihuana'), ('categorized', 'categorised'), ('mold', 'mould'), ('absorption', 'absorptive'), ('bankers', 'banksters'), ('inspections', 'inspectors'), ('flavors', 'flavours'), ('crunch', 'crunchy'), ('fusion', 'fusing'), ('hotel', 'motel'), ('hotel', 'hostel'), ('stimulation', 'stimulator'), ('distraction', 'distracting'), ('loving', 'lovin'), ('eat', 'ate'), ('beer', 'brew'), ('confession', 'confessing'), ('accommodation', 'accomodation'), ('rumors', 'rumours'), ('pale', 'paler'), ('tumor', 'tumour'), ('burned', 'burnt'), ('labeling', 'labelling'), ('sand', 'sandy'), ('crisp', 'crispy'), ('genes', 'genomes'), ('recycled', 'upcycled'), ('counselor', 'counsellor'), ('tackles', 'tacklers'), ('senator', 'senate'), ('hotels', 'motels'), ('hotels', 'hostels'), ('cozy', 'cosy'), ('cozy', 'comfy'), ('spill', 'spilt'), ('resonance', 'resonant'), ('pornography', 'pornographic'), ('metabolic', 'catabolic'), ('weaker', 'weakest'), ('relocation', 'relocating'), ('prostate', 'prostatic'), ('activation', 'activator'), ('wholesale', 'wholesaler'), ('upwards', 'outwards'), ('freelance', 'freelancer'), ('mature', 'amature'), ('buses', 'busses'), ('dreamed', 'dreamt'), ('waiver', 'waive'), ('apartments', 'appartments'), ('tons', 'tonnes'), ('bacteria', 'bacterium'), ('theaters', 'theatres'), ('barbecue', 'barbeque'), ('cow', 'moo'), ('riders', 'racers'), ('riders', 'bikers'), ('bacterial', 'bacterium'), ('dose', 'dosage'), ('negligence', 'negligent'), ('internship', 'externship'), ('automation', 'automating'), ('cup', 'tsp'), ('emails', 'mails'), ('puzzle', 'puzzler'), ('priced', 'pricy'), ('doses', 'dosages'), ('supermarket', 'hypermarket'), ('cooling', 'coolant'), ('thermal', 'thermo'), ('interiors', 'exteriors'), ('revenge', 'avenge'), ('optimize', 'optimise'), ('von', 'vom'), ('specialize', 'specialise'), ('poker', 'pocker'), ('smiling', 'smirking'), ('cheap', 'cheep'), ('van', 'een'), ('sworn', 'swore'), ('referendum', 'referenda'), ('meter', 'metre'), ('injection', 'injector'), ('aluminum', 'aluminium'), ('mile', 'miler'), ('sneak', 'snuck'), ('super', 'uber'), ('sequel', 'prequel'), ('gases', 'gasses'), ('gases', 'gaseous'), ('hypertension', 'hypertensive'), ('irrigation', 'irrigating'), ('postal', 'postage'), ('glamour', 'glamor'), ('volunteering', 'volunteerism'), ('videos', 'vids'), ('inquire', 'enquire'), ('crafts', 'crafters'), ('tumors', 'tumours'), ('gossip', 'gossipy'), ('translations', 'translators'), ('herbs', 'herbals'), ('cook', 'wok'), ('pig', 'hog'), ('subscriber', 'subscribed'), ('chips', 'crisps'), ('toughest', 'roughest'), ('wives', 'wifes'), ('beans', 'peas'), ('freeze', 'froze'), ('smiles', 'smirks'), ('lightning', 'lightening'), ('fibers', 'fibres'), ('bathroom', 'washroom'), ('bell', 'peal'), ('validation', 'validator'), ('validation', 'validating'), ('airplane', 'aeroplane'), ('optimized', 'optimised'), ('slaves', 'slavers'), ('attach', 'detach'), ('hiking', 'biking'), ('glow', 'aglow'), ('disc', 'disk'), ('erotic', 'erotica'), ('descendants', 'descendents'), ('amateur', 'amatuer'), ('amateur', 'amature'), ('breed', 'bred'), ('calf', 'calve'), ('ranch', 'rancho'), ('metabolism', 'catabolism'), ('metabolism', 'metabolize'), ('soap', 'soapy'), ('texture', 'textural'), ('ethanol', 'methanol'), ('felony', 'felon'), ('rider', 'racer'), ('toes', 'soles'), ('genetics', 'genomics'), ('ventilation', 'ventilating'), ('horn', 'honk'), ('sealing', 'sealant'), ('swim', 'swam'), ('swim', 'swum'), ('pulp', 'pulpy'), ('animation', 'animator'), ('animation', 'animating'), ('pump', 'sump'), ('expired', 'expiry'), ('slower', 'slowest'), ('whoever', 'whomever'), ('naive', 'naïve'), ('bike', 'trike'), ('eaten', 'ate'), ('salad', 'slaw'), ('behold', 'beheld'), ('rocking', 'rockin'), ('fabrication', 'fabricating'), ('fabrication', 'fabricator'), ('vampire', 'vampiric'), ('adorable', 'adorably'), ('yards', 'yds'), ('molded', 'moulded'), ('mud', 'muck'), ('jewellery', 'jewelery'), ('mercury', 'mercuric'), ('slices', 'slivers'), ('genocide', 'genocidal'), ('obedience', 'obedient'), ('leagues', 'leaguers'), ('outs', 'bunts'), ('pigs', 'hogs'), ('acceleration', 'deceleration'), ('sung', 'sang'), ('sung', 'sing'), ('decor', 'décor'), ('decor', 'deco'), ('insulation', 'insulating'), ('caller', 'callee'), ('smiled', 'smirked'), ('rebuild', 'rebuilt'), ('gauge', 'guage'), ('gauge', 'gage'), ('shirt', 'tshirt'), ('insertion', 'inserting'), ('compression', 'compressing'), ('percussion', 'percussive'), ('scripture', 'scriptural'), ('shirts', 'tshirts'), ('perfume', 'parfum'), ('gum', 'guar'), ('addictive', 'addicting'), ('odor', 'odour'), ('tire', 'tyre'), ('pdf', 'ppt'), ('pdf', 'rtf'), ('urine', 'urinate'), ('bean', 'pea')]\n",
      "13502\n"
     ]
    }
   ],
   "source": [
    "print([pairs[x] for x in np.argwhere(np.asarray(incorrects) < 0.1)[:, 0]])\n",
    "\n",
    "pairs = [pairs[x] for x in np.argwhere(np.asarray(incorrects) > 0.1)[:, 0]]\n",
    "print(len(pairs))"
   ]
  },
  {
   "cell_type": "code",
   "execution_count": 29,
   "metadata": {},
   "outputs": [],
   "source": [
    "\n",
    "spell_transform_2 = np.zeros(300)\n",
    "for p in pairs:\n",
    "    spell_transform_2 += emb[w2id[p[1]]] - emb[w2id[p[0]]]\n",
    "spell_transform_2 /= len(pairs)"
   ]
  },
  {
   "cell_type": "code",
   "execution_count": 31,
   "metadata": {},
   "outputs": [
    {
     "name": "stdout",
     "output_type": "stream",
     "text": [
      "[[1.         0.90281464]\n",
      " [0.90281464 1.        ]]\n",
      "0.03035938989463681\n",
      "0.044775369099204855\n"
     ]
    },
    {
     "data": {
      "text/plain": [
       "[<matplotlib.lines.Line2D at 0x2aac52741278>]"
      ]
     },
     "execution_count": 31,
     "metadata": {},
     "output_type": "execute_result"
    },
    {
     "data": {
      "image/png": "[encoded data removed]",
      "text/plain": [
       "<Figure size 936x576 with 1 Axes>"
      ]
     },
     "metadata": {
      "needs_background": "light"
     },
     "output_type": "display_data"
    }
   ],
   "source": [
    "\n",
    "print(np.corrcoef(spell_transform, spell_transform_2))\n",
    "print(np.std(spell_transform))\n",
    "print(np.std(spell_transform_2))\n",
    "\n",
    "plt.figure(figsize=(13,8))\n",
    "plt.plot(spell_transform_2)\n",
    "plt.plot(spell_transform)\n",
    "\n"
   ]
  },
  {
   "cell_type": "code",
   "execution_count": 32,
   "metadata": {},
   "outputs": [
    {
     "name": "stdout",
     "output_type": "stream",
     "text": [
      "Accuracy on test set: 100.00%\n"
     ]
    }
   ],
   "source": [
    "test.loc[:, 'fixed'] = toWords(getNeighbours(test.incorrect, transform_vector=spell_transform_2, c=1.4), n=1)\n",
    "print('Accuracy on test set: {:.2f}%'.format((test.fixed==test.correct).sum()/len(test)*100))"
   ]
  },
  {
   "cell_type": "code",
   "execution_count": 33,
   "metadata": {},
   "outputs": [
    {
     "name": "stdout",
     "output_type": "stream",
     "text": [
      "13502\n",
      "Accuracy on train set: 89.71%\n"
     ]
    }
   ],
   "source": [
    "train_pairs = pd.DataFrame(pairs, columns=['correct', 'incorrect'])\n",
    "print(len(train_pairs))\n",
    "\n",
    "train_pairs.loc[:, 'fixed'] = toWords(getNeighbours(train_pairs.incorrect, transform_vector=spell_transform_2, c=1.4), n=1)\n",
    "print('Accuracy on train set: {:.2f}%'.format((train_pairs.fixed==train_pairs.correct).sum()/len(train_pairs)*100))"
   ]
  },
  {
   "cell_type": "code",
   "execution_count": 34,
   "metadata": {},
   "outputs": [
    {
     "name": "stdout",
     "output_type": "stream",
     "text": [
      "            correct     incorrect        fixed\n",
      "13497  dial          dail          daily      \n",
      "425    begun         begain        began      \n",
      "10880  encyclopedia  uncyclopedia  Wikipedia  \n",
      "12737  plasma        plazma        plazma     \n",
      "9620   ice           icey          icy        \n",
      "11917  mechanics     mecanics      fundamental\n",
      "13461  gods          godess        goddess    \n",
      "2877   below         belwo         above      \n",
      "822    possibility   possibily     possibly   \n",
      "9693   favorites     favorties     favorite   \n",
      "9854   identifiable  identifiably  distinct   \n",
      "11305  electronics   electronis    electronic \n",
      "9957   suffers       sufferes      suffer     \n",
      "9815   archives      achives       through    \n",
      "12084  fundamentals  fundaments    fundamental\n",
      "11094  smile         smily         smiley     \n",
      "10361  recognise     recongnize    recognize  \n",
      "592    begin         begain        began      \n",
      "3170   named         nammed        whose      \n",
      "13082  eaten         eatten        being      \n"
     ]
    },
    {
     "name": "stderr",
     "output_type": "stream",
     "text": [
      "/home/ssatti/miniconda2/envs/wvpy3/lib/python3.6/site-packages/matplotlib/axes/_axes.py:6521: MatplotlibDeprecationWarning: \n",
      "The 'normed' kwarg was deprecated in Matplotlib 2.1 and will be removed in 3.1. Use 'density' instead.\n",
      "  alternative=\"'density'\", removal=\"3.1\")\n"
     ]
    },
    {
     "data": {
      "text/plain": [
       "<matplotlib.axes._subplots.AxesSubplot at 0x2aac527e5240>"
      ]
     },
     "execution_count": 34,
     "metadata": {},
     "output_type": "execute_result"
    },
    {
     "data": {
      "image/png": "[encoded data removed]",
      "text/plain": [
       "<Figure size 432x288 with 1 Axes>"
      ]
     },
     "metadata": {
      "needs_background": "light"
     },
     "output_type": "display_data"
    }
   ],
   "source": [
    "print(train_pairs[train_pairs.fixed!=train_pairs.correct].sample(20)) #To see what we missed.\n",
    "\n",
    "train_pairs['score'] = train_pairs.incorrect.apply(lambda x: np.dot(emb[w2id[x]], spell_transform_2))\n",
    "train_pairs[train_pairs.fixed==train_pairs.correct].score.hist(bins=50, normed=True, alpha=0.5)\n",
    "train_pairs[train_pairs.fixed!=train_pairs.correct].score.hist(bins=50, normed=True, alpha=0.5)"
   ]
  },
  {
   "cell_type": "code",
   "execution_count": 35,
   "metadata": {},
   "outputs": [
    {
     "data": {
      "text/html": [
       "<div>\n",
       "<style scoped>\n",
       "    .dataframe tbody tr th:only-of-type {\n",
       "        vertical-align: middle;\n",
       "    }\n",
       "\n",
       "    .dataframe tbody tr th {\n",
       "        vertical-align: top;\n",
       "    }\n",
       "\n",
       "    .dataframe thead th {\n",
       "        text-align: right;\n",
       "    }\n",
       "</style>\n",
       "<table border=\"1\" class=\"dataframe\">\n",
       "  <thead>\n",
       "    <tr style=\"text-align: right;\">\n",
       "      <th></th>\n",
       "      <th>correct</th>\n",
       "      <th>incorrect</th>\n",
       "      <th>fixed</th>\n",
       "      <th>score</th>\n",
       "    </tr>\n",
       "  </thead>\n",
       "  <tbody>\n",
       "    <tr>\n",
       "      <th>3670</th>\n",
       "      <td>ever</td>\n",
       "      <td>ive</td>\n",
       "      <td>'ve</td>\n",
       "      <td>-0.071409</td>\n",
       "    </tr>\n",
       "    <tr>\n",
       "      <th>6003</th>\n",
       "      <td>gone</td>\n",
       "      <td>goin</td>\n",
       "      <td>going</td>\n",
       "      <td>-0.005023</td>\n",
       "    </tr>\n",
       "    <tr>\n",
       "      <th>13380</th>\n",
       "      <td>mad</td>\n",
       "      <td>lmao</td>\n",
       "      <td>lol</td>\n",
       "      <td>0.010468</td>\n",
       "    </tr>\n",
       "    <tr>\n",
       "      <th>5022</th>\n",
       "      <td>saying</td>\n",
       "      <td>sayin</td>\n",
       "      <td>say</td>\n",
       "      <td>0.030969</td>\n",
       "    </tr>\n",
       "    <tr>\n",
       "      <th>337</th>\n",
       "      <td>throughout</td>\n",
       "      <td>throught</td>\n",
       "      <td>through</td>\n",
       "      <td>0.033898</td>\n",
       "    </tr>\n",
       "    <tr>\n",
       "      <th>12857</th>\n",
       "      <td>thank</td>\n",
       "      <td>thanx</td>\n",
       "      <td>thanks</td>\n",
       "      <td>0.038877</td>\n",
       "    </tr>\n",
       "    <tr>\n",
       "      <th>5492</th>\n",
       "      <td>real</td>\n",
       "      <td>realy</td>\n",
       "      <td>really</td>\n",
       "      <td>0.039881</td>\n",
       "    </tr>\n",
       "    <tr>\n",
       "      <th>3642</th>\n",
       "      <td>belief</td>\n",
       "      <td>belive</td>\n",
       "      <td>believe</td>\n",
       "      <td>0.049938</td>\n",
       "    </tr>\n",
       "    <tr>\n",
       "      <th>11290</th>\n",
       "      <td>pack</td>\n",
       "      <td>pak</td>\n",
       "      <td>pak</td>\n",
       "      <td>0.058317</td>\n",
       "    </tr>\n",
       "    <tr>\n",
       "      <th>2834</th>\n",
       "      <td>little</td>\n",
       "      <td>alittle</td>\n",
       "      <td>bit</td>\n",
       "      <td>0.063642</td>\n",
       "    </tr>\n",
       "    <tr>\n",
       "      <th>3265</th>\n",
       "      <td>leaves</td>\n",
       "      <td>leafs</td>\n",
       "      <td>leafs</td>\n",
       "      <td>0.070427</td>\n",
       "    </tr>\n",
       "    <tr>\n",
       "      <th>1544</th>\n",
       "      <td>himself</td>\n",
       "      <td>themself</td>\n",
       "      <td>themselves</td>\n",
       "      <td>0.071310</td>\n",
       "    </tr>\n",
       "    <tr>\n",
       "      <th>4878</th>\n",
       "      <td>herself</td>\n",
       "      <td>themself</td>\n",
       "      <td>themselves</td>\n",
       "      <td>0.071310</td>\n",
       "    </tr>\n",
       "    <tr>\n",
       "      <th>8132</th>\n",
       "      <td>played</td>\n",
       "      <td>playin</td>\n",
       "      <td>playing</td>\n",
       "      <td>0.073317</td>\n",
       "    </tr>\n",
       "    <tr>\n",
       "      <th>8082</th>\n",
       "      <td>white</td>\n",
       "      <td>whit</td>\n",
       "      <td>same</td>\n",
       "      <td>0.074765</td>\n",
       "    </tr>\n",
       "    <tr>\n",
       "      <th>805</th>\n",
       "      <td>from</td>\n",
       "      <td>frm</td>\n",
       "      <td>frm</td>\n",
       "      <td>0.075607</td>\n",
       "    </tr>\n",
       "    <tr>\n",
       "      <th>10337</th>\n",
       "      <td>pile</td>\n",
       "      <td>peice</td>\n",
       "      <td>piece</td>\n",
       "      <td>0.076859</td>\n",
       "    </tr>\n",
       "    <tr>\n",
       "      <th>242</th>\n",
       "      <td>despite</td>\n",
       "      <td>inspite</td>\n",
       "      <td>spite</td>\n",
       "      <td>0.079014</td>\n",
       "    </tr>\n",
       "    <tr>\n",
       "      <th>778</th>\n",
       "      <td>placed</td>\n",
       "      <td>layed</td>\n",
       "      <td>laid</td>\n",
       "      <td>0.080609</td>\n",
       "    </tr>\n",
       "    <tr>\n",
       "      <th>5424</th>\n",
       "      <td>living</td>\n",
       "      <td>livin</td>\n",
       "      <td>life</td>\n",
       "      <td>0.080809</td>\n",
       "    </tr>\n",
       "    <tr>\n",
       "      <th>13160</th>\n",
       "      <td>cheaper</td>\n",
       "      <td>cheapo</td>\n",
       "      <td>expensive</td>\n",
       "      <td>0.081329</td>\n",
       "    </tr>\n",
       "    <tr>\n",
       "      <th>13158</th>\n",
       "      <td>mud</td>\n",
       "      <td>crud</td>\n",
       "      <td>crud</td>\n",
       "      <td>0.082280</td>\n",
       "    </tr>\n",
       "    <tr>\n",
       "      <th>3287</th>\n",
       "      <td>nothing</td>\n",
       "      <td>somthing</td>\n",
       "      <td>something</td>\n",
       "      <td>0.082531</td>\n",
       "    </tr>\n",
       "    <tr>\n",
       "      <th>6127</th>\n",
       "      <td>pose</td>\n",
       "      <td>poser</td>\n",
       "      <td>poser</td>\n",
       "      <td>0.083685</td>\n",
       "    </tr>\n",
       "    <tr>\n",
       "      <th>7163</th>\n",
       "      <td>happen</td>\n",
       "      <td>happend</td>\n",
       "      <td>happened</td>\n",
       "      <td>0.086239</td>\n",
       "    </tr>\n",
       "    <tr>\n",
       "      <th>10844</th>\n",
       "      <td>oneself</td>\n",
       "      <td>ourself</td>\n",
       "      <td>ourselves</td>\n",
       "      <td>0.090176</td>\n",
       "    </tr>\n",
       "    <tr>\n",
       "      <th>6371</th>\n",
       "      <td>yourself</td>\n",
       "      <td>ourself</td>\n",
       "      <td>ourselves</td>\n",
       "      <td>0.090176</td>\n",
       "    </tr>\n",
       "    <tr>\n",
       "      <th>9720</th>\n",
       "      <td>upward</td>\n",
       "      <td>foward</td>\n",
       "      <td>forward</td>\n",
       "      <td>0.090930</td>\n",
       "    </tr>\n",
       "    <tr>\n",
       "      <th>13382</th>\n",
       "      <td>don</td>\n",
       "      <td>dnt</td>\n",
       "      <td>dont</td>\n",
       "      <td>0.090946</td>\n",
       "    </tr>\n",
       "    <tr>\n",
       "      <th>10501</th>\n",
       "      <td>checking</td>\n",
       "      <td>checkin</td>\n",
       "      <td>checkin</td>\n",
       "      <td>0.091107</td>\n",
       "    </tr>\n",
       "    <tr>\n",
       "      <th>...</th>\n",
       "      <td>...</td>\n",
       "      <td>...</td>\n",
       "      <td>...</td>\n",
       "      <td>...</td>\n",
       "    </tr>\n",
       "    <tr>\n",
       "      <th>13430</th>\n",
       "      <td>religions</td>\n",
       "      <td>religous</td>\n",
       "      <td>religious</td>\n",
       "      <td>0.126960</td>\n",
       "    </tr>\n",
       "    <tr>\n",
       "      <th>454</th>\n",
       "      <td>been</td>\n",
       "      <td>beeing</td>\n",
       "      <td>being</td>\n",
       "      <td>0.127241</td>\n",
       "    </tr>\n",
       "    <tr>\n",
       "      <th>12493</th>\n",
       "      <td>sum</td>\n",
       "      <td>yur</td>\n",
       "      <td>your</td>\n",
       "      <td>0.127458</td>\n",
       "    </tr>\n",
       "    <tr>\n",
       "      <th>122</th>\n",
       "      <td>and</td>\n",
       "      <td>adn</td>\n",
       "      <td>well</td>\n",
       "      <td>0.127554</td>\n",
       "    </tr>\n",
       "    <tr>\n",
       "      <th>9180</th>\n",
       "      <td>feasible</td>\n",
       "      <td>feasibly</td>\n",
       "      <td>could</td>\n",
       "      <td>0.129061</td>\n",
       "    </tr>\n",
       "    <tr>\n",
       "      <th>875</th>\n",
       "      <td>have</td>\n",
       "      <td>havnt</td>\n",
       "      <td>already</td>\n",
       "      <td>0.130559</td>\n",
       "    </tr>\n",
       "    <tr>\n",
       "      <th>1915</th>\n",
       "      <td>having</td>\n",
       "      <td>havnt</td>\n",
       "      <td>already</td>\n",
       "      <td>0.130559</td>\n",
       "    </tr>\n",
       "    <tr>\n",
       "      <th>11128</th>\n",
       "      <td>bus</td>\n",
       "      <td>buss</td>\n",
       "      <td>buss</td>\n",
       "      <td>0.130962</td>\n",
       "    </tr>\n",
       "    <tr>\n",
       "      <th>6541</th>\n",
       "      <td>safe</td>\n",
       "      <td>saftey</td>\n",
       "      <td>safety</td>\n",
       "      <td>0.131349</td>\n",
       "    </tr>\n",
       "    <tr>\n",
       "      <th>12300</th>\n",
       "      <td>hang</td>\n",
       "      <td>wana</td>\n",
       "      <td>want</td>\n",
       "      <td>0.132520</td>\n",
       "    </tr>\n",
       "    <tr>\n",
       "      <th>9187</th>\n",
       "      <td>index</td>\n",
       "      <td>idx</td>\n",
       "      <td>idx</td>\n",
       "      <td>0.133670</td>\n",
       "    </tr>\n",
       "    <tr>\n",
       "      <th>12748</th>\n",
       "      <td>fitted</td>\n",
       "      <td>kitted</td>\n",
       "      <td>fully</td>\n",
       "      <td>0.133963</td>\n",
       "    </tr>\n",
       "    <tr>\n",
       "      <th>6112</th>\n",
       "      <td>front</td>\n",
       "      <td>fron</td>\n",
       "      <td>from</td>\n",
       "      <td>0.137936</td>\n",
       "    </tr>\n",
       "    <tr>\n",
       "      <th>3726</th>\n",
       "      <td>parties</td>\n",
       "      <td>partys</td>\n",
       "      <td>party</td>\n",
       "      <td>0.138224</td>\n",
       "    </tr>\n",
       "    <tr>\n",
       "      <th>12825</th>\n",
       "      <td>duck</td>\n",
       "      <td>ducky</td>\n",
       "      <td>ducky</td>\n",
       "      <td>0.138559</td>\n",
       "    </tr>\n",
       "    <tr>\n",
       "      <th>13162</th>\n",
       "      <td>jewellery</td>\n",
       "      <td>jewlery</td>\n",
       "      <td>jewelry</td>\n",
       "      <td>0.139205</td>\n",
       "    </tr>\n",
       "    <tr>\n",
       "      <th>11642</th>\n",
       "      <td>billions</td>\n",
       "      <td>zillions</td>\n",
       "      <td>hundreds</td>\n",
       "      <td>0.140687</td>\n",
       "    </tr>\n",
       "    <tr>\n",
       "      <th>4946</th>\n",
       "      <td>millions</td>\n",
       "      <td>zillions</td>\n",
       "      <td>hundreds</td>\n",
       "      <td>0.140687</td>\n",
       "    </tr>\n",
       "    <tr>\n",
       "      <th>1889</th>\n",
       "      <td>keeping</td>\n",
       "      <td>keepin</td>\n",
       "      <td>keep</td>\n",
       "      <td>0.143938</td>\n",
       "    </tr>\n",
       "    <tr>\n",
       "      <th>12116</th>\n",
       "      <td>mortgages</td>\n",
       "      <td>morgages</td>\n",
       "      <td>mortgage</td>\n",
       "      <td>0.144208</td>\n",
       "    </tr>\n",
       "    <tr>\n",
       "      <th>7390</th>\n",
       "      <td>count</td>\n",
       "      <td>cnt</td>\n",
       "      <td>cnt</td>\n",
       "      <td>0.144569</td>\n",
       "    </tr>\n",
       "    <tr>\n",
       "      <th>2494</th>\n",
       "      <td>world</td>\n",
       "      <td>wold</td>\n",
       "      <td>would</td>\n",
       "      <td>0.145963</td>\n",
       "    </tr>\n",
       "    <tr>\n",
       "      <th>11452</th>\n",
       "      <td>ride</td>\n",
       "      <td>ridin</td>\n",
       "      <td>up</td>\n",
       "      <td>0.146133</td>\n",
       "    </tr>\n",
       "    <tr>\n",
       "      <th>11513</th>\n",
       "      <td>riding</td>\n",
       "      <td>ridin</td>\n",
       "      <td>up</td>\n",
       "      <td>0.146133</td>\n",
       "    </tr>\n",
       "    <tr>\n",
       "      <th>7236</th>\n",
       "      <td>newest</td>\n",
       "      <td>newish</td>\n",
       "      <td>new</td>\n",
       "      <td>0.147333</td>\n",
       "    </tr>\n",
       "    <tr>\n",
       "      <th>13383</th>\n",
       "      <td>don</td>\n",
       "      <td>gona</td>\n",
       "      <td>gonna</td>\n",
       "      <td>0.148846</td>\n",
       "    </tr>\n",
       "    <tr>\n",
       "      <th>4498</th>\n",
       "      <td>going</td>\n",
       "      <td>gona</td>\n",
       "      <td>gonna</td>\n",
       "      <td>0.148846</td>\n",
       "    </tr>\n",
       "    <tr>\n",
       "      <th>6004</th>\n",
       "      <td>gone</td>\n",
       "      <td>gona</td>\n",
       "      <td>gonna</td>\n",
       "      <td>0.148846</td>\n",
       "    </tr>\n",
       "    <tr>\n",
       "      <th>13448</th>\n",
       "      <td>darling</td>\n",
       "      <td>darlin</td>\n",
       "      <td>let</td>\n",
       "      <td>0.149399</td>\n",
       "    </tr>\n",
       "    <tr>\n",
       "      <th>13439</th>\n",
       "      <td>niece</td>\n",
       "      <td>neice</td>\n",
       "      <td>sister</td>\n",
       "      <td>0.149935</td>\n",
       "    </tr>\n",
       "  </tbody>\n",
       "</table>\n",
       "<p>97 rows × 4 columns</p>\n",
       "</div>"
      ],
      "text/plain": [
       "          correct incorrect       fixed     score\n",
       "3670   ever        ive       've        -0.071409\n",
       "6003   gone        goin      going      -0.005023\n",
       "13380  mad         lmao      lol         0.010468\n",
       "5022   saying      sayin     say         0.030969\n",
       "337    throughout  throught  through     0.033898\n",
       "12857  thank       thanx     thanks      0.038877\n",
       "5492   real        realy     really      0.039881\n",
       "3642   belief      belive    believe     0.049938\n",
       "11290  pack        pak       pak         0.058317\n",
       "2834   little      alittle   bit         0.063642\n",
       "3265   leaves      leafs     leafs       0.070427\n",
       "1544   himself     themself  themselves  0.071310\n",
       "4878   herself     themself  themselves  0.071310\n",
       "8132   played      playin    playing     0.073317\n",
       "8082   white       whit      same        0.074765\n",
       "805    from        frm       frm         0.075607\n",
       "10337  pile        peice     piece       0.076859\n",
       "242    despite     inspite   spite       0.079014\n",
       "778    placed      layed     laid        0.080609\n",
       "5424   living      livin     life        0.080809\n",
       "13160  cheaper     cheapo    expensive   0.081329\n",
       "13158  mud         crud      crud        0.082280\n",
       "3287   nothing     somthing  something   0.082531\n",
       "6127   pose        poser     poser       0.083685\n",
       "7163   happen      happend   happened    0.086239\n",
       "10844  oneself     ourself   ourselves   0.090176\n",
       "6371   yourself    ourself   ourselves   0.090176\n",
       "9720   upward      foward    forward     0.090930\n",
       "13382  don         dnt       dont        0.090946\n",
       "10501  checking    checkin   checkin     0.091107\n",
       "...         ...        ...       ...          ...\n",
       "13430  religions   religous  religious   0.126960\n",
       "454    been        beeing    being       0.127241\n",
       "12493  sum         yur       your        0.127458\n",
       "122    and         adn       well        0.127554\n",
       "9180   feasible    feasibly  could       0.129061\n",
       "875    have        havnt     already     0.130559\n",
       "1915   having      havnt     already     0.130559\n",
       "11128  bus         buss      buss        0.130962\n",
       "6541   safe        saftey    safety      0.131349\n",
       "12300  hang        wana      want        0.132520\n",
       "9187   index       idx       idx         0.133670\n",
       "12748  fitted      kitted    fully       0.133963\n",
       "6112   front       fron      from        0.137936\n",
       "3726   parties     partys    party       0.138224\n",
       "12825  duck        ducky     ducky       0.138559\n",
       "13162  jewellery   jewlery   jewelry     0.139205\n",
       "11642  billions    zillions  hundreds    0.140687\n",
       "4946   millions    zillions  hundreds    0.140687\n",
       "1889   keeping     keepin    keep        0.143938\n",
       "12116  mortgages   morgages  mortgage    0.144208\n",
       "7390   count       cnt       cnt         0.144569\n",
       "2494   world       wold      would       0.145963\n",
       "11452  ride        ridin     up          0.146133\n",
       "11513  riding      ridin     up          0.146133\n",
       "7236   newest      newish    new         0.147333\n",
       "13383  don         gona      gonna       0.148846\n",
       "4498   going       gona      gonna       0.148846\n",
       "6004   gone        gona      gonna       0.148846\n",
       "13448  darling     darlin    let         0.149399\n",
       "13439  niece       neice     sister      0.149935\n",
       "\n",
       "[97 rows x 4 columns]"
      ]
     },
     "execution_count": 35,
     "metadata": {},
     "output_type": "execute_result"
    }
   ],
   "source": [
    "train_pairs[(train_pairs.score < 0.15) & (train_pairs.fixed!=train_pairs.correct)].sort_values('score')"
   ]
  },
  {
   "cell_type": "code",
   "execution_count": 36,
   "metadata": {},
   "outputs": [
    {
     "name": "stdout",
     "output_type": "stream",
     "text": [
      "[['absolutely', 'totally', 'truly', 'really', 'so']]\n",
      "[['realized', 'dreamed', 'been', 'had', 'meant']]\n"
     ]
    }
   ],
   "source": [
    "print(toWords(getNeighbours(['absolutly'], transform_vector=spell_transform_2, c=1.4), n=5))\n",
    "print(toWords(getNeighbours(['dreampt'], transform_vector=spell_transform_2, c=1.4), n=5))"
   ]
  },
  {
   "cell_type": "code",
   "execution_count": 37,
   "metadata": {},
   "outputs": [],
   "source": [
    "\n",
    "def pickBest(candidates_list, word_list):\n",
    "    best = []\n",
    "    for candidates, word in zip(candidates_list, word_list):\n",
    "        found = False\n",
    "        for c in candidates:\n",
    "            if c == word or is_misspelling(c, word):\n",
    "                best.append(c)\n",
    "                found=True\n",
    "                break\n",
    "        if not found:\n",
    "            best.append(word) # #just add the original word\n",
    "    return best"
   ]
  },
  {
   "cell_type": "code",
   "execution_count": 38,
   "metadata": {},
   "outputs": [
    {
     "name": "stdout",
     "output_type": "stream",
     "text": [
      "Accuracy on train set: 91.90%\n"
     ]
    }
   ],
   "source": [
    "\n",
    "train_pairs['c'] = train_pairs.score.apply(lambda x: 1.2 + x * 1)\n",
    "\n",
    "train_pairs.loc[:, 'fixed'] = pickBest(toWords(getNeighbours(train_pairs.incorrect, transform_vector=spell_transform_2, c=np.expand_dims(train_pairs['c'].values, 1)), n=5), train_pairs.incorrect)\n",
    "print('Accuracy on train set: {:.2f}%'.format((train_pairs.fixed==train_pairs.correct).sum()/len(train_pairs)*100))\n"
   ]
  },
  {
   "cell_type": "code",
   "execution_count": 39,
   "metadata": {},
   "outputs": [],
   "source": [
    "from scipy.optimize import fmin"
   ]
  },
  {
   "cell_type": "code",
   "execution_count": 40,
   "metadata": {},
   "outputs": [],
   "source": [
    "train_sample = train_pairs.sample(frac=0.1, random_state=1234)\n",
    "\n",
    "def getErrorRate(params):\n",
    "    train_sample['c'] = train_sample.score.apply(lambda x: params[0]+ x * params[1])\n",
    "    train_sample.loc[:, 'fixed'] = pickBest(toWords(getNeighbours(train_sample.incorrect, transform_vector=spell_transform_2, c=np.expand_dims(train_sample['c'].values, 1)), n=5), train_sample.incorrect)\n",
    "    print('Accuracy using params {} and {}: {:.2f}%'.format(params[0], params[1], (train_sample.fixed==train_sample.correct).sum()/len(train_sample)*100))\n",
    "    return (train_sample.fixed!=train_sample.correct).sum()/len(train_sample)"
   ]
  },
  {
   "cell_type": "code",
   "execution_count": 41,
   "metadata": {},
   "outputs": [
    {
     "name": "stdout",
     "output_type": "stream",
     "text": [
      "Accuracy using params 1.2 and 1.0: 92.30%\n",
      "Accuracy using params 1.26 and 1.0: 91.33%\n",
      "Accuracy using params 1.2 and 1.05: 91.93%\n",
      "Accuracy using params 1.14 and 1.0499999999999998: 92.81%\n",
      "Accuracy using params 1.0799999999999996 and 1.0749999999999997: 92.74%\n",
      "Accuracy using params 1.14 and 0.9999999999999998: 92.89%\n",
      "Accuracy using params 1.1099999999999999 and 0.9749999999999996: 92.96%\n",
      "Accuracy using params 1.05 and 1.0249999999999995: 92.15%\n",
      "Accuracy using params 1.1625 and 1.0062499999999999: 92.81%\n",
      "Accuracy using params 1.0875 and 1.0187499999999996: 92.74%\n",
      "Accuracy using params 1.14375 and 1.009375: 92.96%\n",
      "Accuracy using params 1.1137500000000002 and 0.9343749999999997: 92.81%\n",
      "Accuracy using params 1.1334374999999999 and 1.02109375: 92.89%\n",
      "Accuracy using params 1.1203125000000003 and 0.9632812499999996: 93.11%\n",
      "Accuracy using params 1.1137500000000005 and 0.9343749999999993: 92.81%\n",
      "Accuracy using params 1.0865625 and 0.9289062499999994: 92.67%\n",
      "Accuracy using params 1.129453125 and 0.9892578124999998: 93.33%\n",
      "Accuracy using params 1.1397656250000003 and 0.9775390624999998: 93.26%\n",
      "Accuracy using params 1.14890625 and 1.003515625: 92.89%\n",
      "Accuracy using params 1.1274609375000002 and 0.9733398437499997: 93.19%\n",
      "Accuracy using params 1.1417578125 and 0.9934570312499998: 92.89%\n",
      "Accuracy using params 1.1310351562500003 and 0.9783691406249997: 93.26%\n",
      "Accuracy using params 1.13818359375 and 0.9884277343749999: 93.19%\n",
      "Accuracy using params 1.1328222656250002 and 0.9808837890624997: 93.33%\n",
      "Accuracy using params 1.1225097656249998 and 0.9926025390624997: 93.19%\n",
      "Accuracy using params 1.1354516601562503 and 0.9813049316406248: 93.33%\n",
      "Optimization terminated successfully.\n",
      "         Current function value: 0.066667\n",
      "         Iterations: 13\n",
      "         Function evaluations: 26\n"
     ]
    }
   ],
   "source": [
    "params = fmin(getErrorRate, [1.2, 1.0],  xtol=0.01)"
   ]
  },
  {
   "cell_type": "code",
   "execution_count": 42,
   "metadata": {},
   "outputs": [
    {
     "name": "stdout",
     "output_type": "stream",
     "text": [
      "Accuracy on train set: 92.85%\n"
     ]
    }
   ],
   "source": [
    "train_pairs['c'] = train_pairs.score.apply(lambda x: params[0] + x * params[1])\n",
    "train_pairs.loc[:, 'fixed'] = pickBest(toWords(getNeighbours(train_pairs.incorrect, transform_vector=spell_transform_2, c=np.expand_dims(train_pairs['c'].values, 1)), n=5), train_pairs.incorrect)\n",
    "print('Accuracy on train set: {:.2f}%'.format((train_pairs.fixed==train_pairs.correct).sum()/len(train_pairs)*100))"
   ]
  },
  {
   "cell_type": "code",
   "execution_count": 43,
   "metadata": {},
   "outputs": [
    {
     "data": {
      "text/html": [
       "<div>\n",
       "<style scoped>\n",
       "    .dataframe tbody tr th:only-of-type {\n",
       "        vertical-align: middle;\n",
       "    }\n",
       "\n",
       "    .dataframe tbody tr th {\n",
       "        vertical-align: top;\n",
       "    }\n",
       "\n",
       "    .dataframe thead th {\n",
       "        text-align: right;\n",
       "    }\n",
       "</style>\n",
       "<table border=\"1\" class=\"dataframe\">\n",
       "  <thead>\n",
       "    <tr style=\"text-align: right;\">\n",
       "      <th></th>\n",
       "      <th>correct</th>\n",
       "      <th>incorrect</th>\n",
       "      <th>fixed</th>\n",
       "      <th>score</th>\n",
       "      <th>c</th>\n",
       "    </tr>\n",
       "  </thead>\n",
       "  <tbody>\n",
       "    <tr>\n",
       "      <th>875</th>\n",
       "      <td>have</td>\n",
       "      <td>havnt</td>\n",
       "      <td>havent</td>\n",
       "      <td>0.130559</td>\n",
       "      <td>1.258609</td>\n",
       "    </tr>\n",
       "    <tr>\n",
       "      <th>8223</th>\n",
       "      <td>premier</td>\n",
       "      <td>premire</td>\n",
       "      <td>premiere</td>\n",
       "      <td>0.315572</td>\n",
       "      <td>1.441635</td>\n",
       "    </tr>\n",
       "    <tr>\n",
       "      <th>1791</th>\n",
       "      <td>added</td>\n",
       "      <td>addd</td>\n",
       "      <td>add</td>\n",
       "      <td>0.393051</td>\n",
       "      <td>1.518282</td>\n",
       "    </tr>\n",
       "    <tr>\n",
       "      <th>3412</th>\n",
       "      <td>headed</td>\n",
       "      <td>headin</td>\n",
       "      <td>heading</td>\n",
       "      <td>0.263724</td>\n",
       "      <td>1.390344</td>\n",
       "    </tr>\n",
       "    <tr>\n",
       "      <th>12552</th>\n",
       "      <td>tolerate</td>\n",
       "      <td>tolorate</td>\n",
       "      <td>tolorate</td>\n",
       "      <td>0.440402</td>\n",
       "      <td>1.565124</td>\n",
       "    </tr>\n",
       "    <tr>\n",
       "      <th>5243</th>\n",
       "      <td>employers</td>\n",
       "      <td>employess</td>\n",
       "      <td>employees</td>\n",
       "      <td>0.274034</td>\n",
       "      <td>1.400543</td>\n",
       "    </tr>\n",
       "    <tr>\n",
       "      <th>10052</th>\n",
       "      <td>elder</td>\n",
       "      <td>eldery</td>\n",
       "      <td>elderly</td>\n",
       "      <td>0.298148</td>\n",
       "      <td>1.424398</td>\n",
       "    </tr>\n",
       "    <tr>\n",
       "      <th>570</th>\n",
       "      <td>these</td>\n",
       "      <td>thoose</td>\n",
       "      <td>those</td>\n",
       "      <td>0.349835</td>\n",
       "      <td>1.475530</td>\n",
       "    </tr>\n",
       "    <tr>\n",
       "      <th>12434</th>\n",
       "      <td>crystal</td>\n",
       "      <td>cristal</td>\n",
       "      <td>cristal</td>\n",
       "      <td>0.213467</td>\n",
       "      <td>1.340627</td>\n",
       "    </tr>\n",
       "    <tr>\n",
       "      <th>12734</th>\n",
       "      <td>fantasies</td>\n",
       "      <td>fantasys</td>\n",
       "      <td>fantasys</td>\n",
       "      <td>0.320416</td>\n",
       "      <td>1.446428</td>\n",
       "    </tr>\n",
       "    <tr>\n",
       "      <th>1572</th>\n",
       "      <td>contained</td>\n",
       "      <td>containg</td>\n",
       "      <td>containing</td>\n",
       "      <td>0.295625</td>\n",
       "      <td>1.421902</td>\n",
       "    </tr>\n",
       "    <tr>\n",
       "      <th>4498</th>\n",
       "      <td>going</td>\n",
       "      <td>gona</td>\n",
       "      <td>gonna</td>\n",
       "      <td>0.148846</td>\n",
       "      <td>1.276701</td>\n",
       "    </tr>\n",
       "    <tr>\n",
       "      <th>10629</th>\n",
       "      <td>defeated</td>\n",
       "      <td>defeted</td>\n",
       "      <td>defeted</td>\n",
       "      <td>0.454932</td>\n",
       "      <td>1.579499</td>\n",
       "    </tr>\n",
       "    <tr>\n",
       "      <th>11621</th>\n",
       "      <td>pocket</td>\n",
       "      <td>poket</td>\n",
       "      <td>poker</td>\n",
       "      <td>0.261199</td>\n",
       "      <td>1.387847</td>\n",
       "    </tr>\n",
       "    <tr>\n",
       "      <th>13162</th>\n",
       "      <td>jewellery</td>\n",
       "      <td>jewlery</td>\n",
       "      <td>jewelry</td>\n",
       "      <td>0.139205</td>\n",
       "      <td>1.267163</td>\n",
       "    </tr>\n",
       "    <tr>\n",
       "      <th>6129</th>\n",
       "      <td>scenes</td>\n",
       "      <td>seens</td>\n",
       "      <td>seens</td>\n",
       "      <td>0.397805</td>\n",
       "      <td>1.522985</td>\n",
       "    </tr>\n",
       "    <tr>\n",
       "      <th>13473</th>\n",
       "      <td>gadget</td>\n",
       "      <td>gaget</td>\n",
       "      <td>gaget</td>\n",
       "      <td>0.368625</td>\n",
       "      <td>1.494119</td>\n",
       "    </tr>\n",
       "    <tr>\n",
       "      <th>5616</th>\n",
       "      <td>viewed</td>\n",
       "      <td>viwed</td>\n",
       "      <td>viwed</td>\n",
       "      <td>0.403980</td>\n",
       "      <td>1.529093</td>\n",
       "    </tr>\n",
       "    <tr>\n",
       "      <th>277</th>\n",
       "      <td>those</td>\n",
       "      <td>thse</td>\n",
       "      <td>these</td>\n",
       "      <td>0.277229</td>\n",
       "      <td>1.403704</td>\n",
       "    </tr>\n",
       "    <tr>\n",
       "      <th>13362</th>\n",
       "      <td>tier</td>\n",
       "      <td>higer</td>\n",
       "      <td>higher</td>\n",
       "      <td>0.280589</td>\n",
       "      <td>1.407028</td>\n",
       "    </tr>\n",
       "  </tbody>\n",
       "</table>\n",
       "</div>"
      ],
      "text/plain": [
       "         correct  incorrect       fixed     score         c\n",
       "875    have       havnt      havent      0.130559  1.258609\n",
       "8223   premier    premire    premiere    0.315572  1.441635\n",
       "1791   added      addd       add         0.393051  1.518282\n",
       "3412   headed     headin     heading     0.263724  1.390344\n",
       "12552  tolerate   tolorate   tolorate    0.440402  1.565124\n",
       "5243   employers  employess  employees   0.274034  1.400543\n",
       "10052  elder      eldery     elderly     0.298148  1.424398\n",
       "570    these      thoose     those       0.349835  1.475530\n",
       "12434  crystal    cristal    cristal     0.213467  1.340627\n",
       "12734  fantasies  fantasys   fantasys    0.320416  1.446428\n",
       "1572   contained  containg   containing  0.295625  1.421902\n",
       "4498   going      gona       gonna       0.148846  1.276701\n",
       "10629  defeated   defeted    defeted     0.454932  1.579499\n",
       "11621  pocket     poket      poker       0.261199  1.387847\n",
       "13162  jewellery  jewlery    jewelry     0.139205  1.267163\n",
       "6129   scenes     seens      seens       0.397805  1.522985\n",
       "13473  gadget     gaget      gaget       0.368625  1.494119\n",
       "5616   viewed     viwed      viwed       0.403980  1.529093\n",
       "277    those      thse       these       0.277229  1.403704\n",
       "13362  tier       higer      higher      0.280589  1.407028"
      ]
     },
     "execution_count": 43,
     "metadata": {},
     "output_type": "execute_result"
    }
   ],
   "source": [
    "train_pairs[train_pairs.fixed!=train_pairs.correct].sample(20) #Still not getting correct"
   ]
  },
  {
   "cell_type": "code",
   "execution_count": 44,
   "metadata": {},
   "outputs": [
    {
     "name": "stdout",
     "output_type": "stream",
     "text": [
      "418757\n",
      "['trainiing', 'trompettes', 'tylerdurden', 'unaturally', 'uniao', 'upstretched', 'vakker', 'vampaneze', 'vinted', 'vocÃª', 'wiid', 'woombie', 'wordsforyoungmen', 'wried', 'wwent', 'xalisae', 'xtremecaffeine', 'yildirim', 'zipout', 'zulchzulu']\n"
     ]
    }
   ],
   "source": [
    "allwords = [x for x in id2w if checkword(x, 3)]\n",
    "print(len(allwords))\n",
    "print(allwords[-20:])"
   ]
  },
  {
   "cell_type": "code",
   "execution_count": 45,
   "metadata": {},
   "outputs": [],
   "source": [
    "allwords = pd.DataFrame(allwords, columns=['original'])\n",
    "allwords['score'] = allwords.original.apply(lambda x: np.dot(emb[w2id[x]], spell_transform))\n",
    "allwords['c'] = allwords.score.apply(lambda x: params[0]+ x * params[1])"
   ]
  },
  {
   "cell_type": "code",
   "execution_count": 46,
   "metadata": {},
   "outputs": [],
   "source": [
    "#\n",
    "allwords['fixed'] = pickBest(toWords(getNeighbours(allwords.original, transform_vector=spell_transform_2, c=np.expand_dims(allwords['c'].values, 1)), n=5), allwords.original)"
   ]
  },
  {
   "cell_type": "code",
   "execution_count": 47,
   "metadata": {},
   "outputs": [
    {
     "name": "stdout",
     "output_type": "stream",
     "text": [
      "37106\n",
      "            original     score         c        fixed\n",
      "255371  plya          0.223334  1.350388  play       \n",
      "212316  werld         0.250273  1.377038  world      \n",
      "65470   earing        0.176451  1.304009  earring    \n",
      "164260  behavious     0.250612  1.377373  behaviors  \n",
      "156332  trialer       0.212011  1.339186  trailer    \n",
      "271967  parot         0.228173  1.355175  parrot     \n",
      "122199  pedistal      0.208187  1.335404  pedestal   \n",
      "50485   mony          0.169903  1.297531  money      \n",
      "81637   primative     0.204530  1.331786  primitive  \n",
      "325785  citezen       0.214246  1.341398  citizen    \n",
      "158893  introducted   0.195878  1.323227  introduced \n",
      "217802  cencus        0.205516  1.332762  census     \n",
      "145145  permenent     0.219582  1.346676  permanent  \n",
      "260247  gadets        0.222896  1.349955  gadgets    \n",
      "163824  cirle         0.220331  1.347417  circle     \n",
      "360566  structered    0.232667  1.359621  structured \n",
      "173819  parady        0.249252  1.376027  parody     \n",
      "254796  safegaurd     0.222445  1.349508  safeguard  \n",
      "334722  commnunity    0.236100  1.363017  community  \n",
      "246480  wordrobe      0.241286  1.368148  wardrobe   \n",
      "350760  perfectley    0.231963  1.358924  perfectly  \n",
      "211916  xcuse         0.236549  1.363461  excuse     \n",
      "83656   uncivilised   0.158894  1.286640  uncivilized\n",
      "99900   woould        0.261231  1.387878  would      \n",
      "107018  vedeo         0.217251  1.344370  video      \n",
      "282091  qeen          0.208732  1.335942  queen      \n",
      "399436  ameeting      0.190823  1.318226  meeting    \n",
      "107350  comitting     0.220137  1.347225  committing \n",
      "321376  sixtys        0.240297  1.367168  sixties    \n",
      "323041  sucurity      0.214604  1.341751  security   \n",
      "170033  hoep          0.233043  1.359993  hope       \n",
      "410569  explanaition  0.233166  1.360115  explanation\n",
      "190503  awoman        0.210657  1.337847  woman      \n",
      "31106   weve          0.138454  1.266420  have       \n",
      "94119   claming       0.243296  1.370135  claiming   \n",
      "112456  intitial      0.187341  1.314782  initial    \n",
      "417035  afiliation    0.200867  1.328163  affiliation\n",
      "277969  tokk          0.250155  1.376921  took       \n",
      "284670  poligamy      0.204018  1.331279  polygamy   \n",
      "169351  exluding      0.220221  1.347309  excluding  \n",
      "107102  enduser       0.205954  1.333194  end-user   \n",
      "236505  mantains      0.250559  1.377320  maintains  \n",
      "177705  enroled       0.212065  1.339240  enrolled   \n",
      "315016  heretofor     0.178523  1.306058  heretofore \n",
      "132018  holem         0.145607  1.273496  holdem     \n",
      "321771  evergy        0.207871  1.335091  energy     \n",
      "328020  crawing       0.244651  1.371476  crawling   \n",
      "386474  aggain        0.240879  1.367744  again      \n",
      "317713  makret        0.216334  1.343463  market     \n",
      "402821  plaaying      0.216663  1.343788  playing    \n"
     ]
    }
   ],
   "source": [
    "print(sum(allwords.fixed!=allwords.original))\n",
    "print(allwords[allwords.fixed!=allwords.original].sample(50))"
   ]
  },
  {
   "cell_type": "code",
   "execution_count": 48,
   "metadata": {},
   "outputs": [
    {
     "name": "stdout",
     "output_type": "stream",
     "text": [
      "[['tennage', 'teenage', 'young', 'girls', 'boys']]\n",
      "[['teenage', 'tennage', 'young', 'girls', 'individual']]\n"
     ]
    }
   ],
   "source": [
    "print(toWords(getNeighbours(['tennage'], transform_vector=spell_transform_2, c=1.32), n=5))\n",
    "print(toWords(getNeighbours(['tennage'], transform_vector=spell_transform_2, c=1.4), n=5))"
   ]
  },
  {
   "cell_type": "code",
   "execution_count": 49,
   "metadata": {},
   "outputs": [],
   "source": [
    "import pickle\n",
    "\n",
    "spellingDict = {k:v for _, k,v in allwords.loc[allwords.fixed!=allwords.original, ['original', 'fixed']].itertuples()}\n",
    "pickle.dump(spellingDict, open('spellingDict.pkl', 'wb'))\n",
    "allwords.loc[allwords.fixed!=allwords.original, ['original', 'fixed']].to_csv('spelling_pairs.csv.gz', index=False, compression='gzip')"
   ]
  },
  {
   "cell_type": "code",
   "execution_count": 69,
   "metadata": {},
   "outputs": [],
   "source": [
    "\n"
   ]
  },
  {
   "cell_type": "code",
   "execution_count": 70,
   "metadata": {},
   "outputs": [],
   "source": []
  },
  {
   "cell_type": "code",
   "execution_count": 71,
   "metadata": {},
   "outputs": [
    {
     "name": "stdout",
     "output_type": "stream",
     "text": [
      "[[[1, 1], 1]]\n",
      "[[[1, 2], 2]]\n",
      "[[[1, 2], 2], [[7, 7], 1]]\n",
      "[[[1, 2], 2], [[6, 7], 2]]\n",
      "[[[1, 2], 2], [[4, 4], 1], [[6, 7], 2]]\n",
      "[[[1, 3], 3], [[4, 4], 1], [[6, 7], 2]]\n",
      "[[[1, 3], 3], [[4, 5], 2], [[6, 7], 2]]\n"
     ]
    }
   ],
   "source": []
  },
  {
   "cell_type": "code",
   "execution_count": null,
   "metadata": {},
   "outputs": [],
   "source": []
  }
 ],
 "metadata": {
  "kernelspec": {
   "display_name": "Python 3",
   "language": "python",
   "name": "python3"
  },
  "language_info": {
   "codemirror_mode": {
    "name": "ipython",
    "version": 3
   },
   "file_extension": ".py",
   "mimetype": "text/x-python",
   "name": "python",
   "nbconvert_exporter": "python",
   "pygments_lexer": "ipython3",
   "version": "3.6.7"
  }
 },
 "nbformat": 4,
 "nbformat_minor": 2
}
